{
 "cells": [
  {
   "cell_type": "markdown",
   "metadata": {},
   "source": [
    "# Advent of Code\n",
    "\n",
    "This notebook contains my solutions for the 2020 version of [Advent of Code](https://adventofcode.com/2020).\n",
    "\n",
    "### Imports and Dataimport"
   ]
  },
  {
   "cell_type": "code",
   "execution_count": 1,
   "metadata": {},
   "outputs": [],
   "source": [
    "from functools   import lru_cache\n",
    "from itertools   import count, product\n",
    "from typing      import Tuple, List, Dict\n",
    "from collections import deque, Counter\n",
    "from copy        import deepcopy\n",
    "from math        import gcd\n",
    "\n",
    "import re"
   ]
  },
  {
   "cell_type": "code",
   "execution_count": 2,
   "metadata": {},
   "outputs": [],
   "source": [
    "def data(day: int, parser=str, sep='\\n') -> list:\n",
    "    \"Split the day's input file into sections separated by `sep`, and apply `parser` function to each.\"\n",
    "    with open(f'../data/day{day}.txt') as f:\n",
    "        sections = f.read().rstrip().split(sep)\n",
    "        return list(map(parser, sections))"
   ]
  },
  {
   "cell_type": "markdown",
   "metadata": {},
   "source": [
    "## Day 1: Report Repair\n",
    "\n",
    "### Part 1\n",
    "The first challenge is to find two numbers in a list that add up to 2020 and return their product."
   ]
  },
  {
   "cell_type": "code",
   "execution_count": 3,
   "metadata": {},
   "outputs": [
    {
     "data": {
      "text/plain": [
       "926464"
      ]
     },
     "execution_count": 3,
     "metadata": {},
     "output_type": "execute_result"
    }
   ],
   "source": [
    "test1_input = [1721, 979, 366, 299, 675, 1456]\n",
    "# 1721 + 299 = 2020 and 1721 * 299 = 514579\n",
    "test1_1output = 514579\n",
    "\n",
    "def twosum(nums):\n",
    "    complements = set()\n",
    "    for x in nums:\n",
    "        y = 2020 - x\n",
    "        \n",
    "        if x in complements:\n",
    "            return x * y\n",
    "        \n",
    "        complements.add(y)\n",
    "        \n",
    "assert twosum(set(test1_input)) == test1_1output\n",
    "\n",
    "input1 = set(data(1, int))\n",
    "twosum(input1)"
   ]
  },
  {
   "cell_type": "markdown",
   "metadata": {},
   "source": [
    "### Part 2\n",
    "The second part of the puzzle is to find the three distinct numbers that add to 2020 and return their product."
   ]
  },
  {
   "cell_type": "code",
   "execution_count": 4,
   "metadata": {},
   "outputs": [
    {
     "data": {
      "text/plain": [
       "65656536"
      ]
     },
     "execution_count": 4,
     "metadata": {},
     "output_type": "execute_result"
    }
   ],
   "source": [
    "test1_input = [1721, 979, 366, 299, 675, 1456]\n",
    "# 979 + 366 + 675 = 2020 and 979 * 366 * 675 = 241861950\n",
    "test1_2output = 241861950\n",
    "\n",
    "def threesum(nums):\n",
    "    for x in nums:\n",
    "        complements = set()\n",
    "        yz = 2020 - x\n",
    "\n",
    "        for y in nums:\n",
    "            z = yz - y\n",
    "\n",
    "            if y in complements:\n",
    "                return x * y * z\n",
    "\n",
    "            complements.add(z)\n",
    "\n",
    "assert threesum(set(test1_input)) == test1_2output\n",
    "\n",
    "input1 = set(data(1, int))\n",
    "threesum(input1)"
   ]
  },
  {
   "cell_type": "markdown",
   "metadata": {},
   "source": [
    "## Day 2: Password Philosophy\n",
    "\n",
    "### Part 1\n",
    "The First part of this days challenge is to count how many passwords are valid according to their policies.\n",
    "\n",
    "A given password string is considered valid if it contains between min and max instances of a specific character, where min, max and the character are specified in the policy."
   ]
  },
  {
   "cell_type": "code",
   "execution_count": 5,
   "metadata": {},
   "outputs": [
    {
     "data": {
      "text/plain": [
       "378"
      ]
     },
     "execution_count": 5,
     "metadata": {},
     "output_type": "execute_result"
    }
   ],
   "source": [
    "test2_input1 = '1-3 a: abcde'\n",
    "test2_input2 = '1-3 b: cdefg'\n",
    "test2_input3 = '2-9 c: ccccccccc'\n",
    "test2_1output1 = True\n",
    "test2_1output2 = False\n",
    "test2_1output3 = True\n",
    "\n",
    "Pw_Policy = Tuple[int, int, str, str]\n",
    "\n",
    "def parse_pw_policy(line: str) -> Pw_Policy:\n",
    "    \"Given '1-3 b: cdefg', return (1, 3, 'b', 'cdefg').\"\n",
    "    mmin, mmax, letter, pw = re.findall(r'[^-:\\s]+', line)\n",
    "    return (int(mmin), int(mmax), letter, pw)\n",
    "\n",
    "def check_pw(policy) -> bool:\n",
    "    mmin, mmax, letter, pw = policy\n",
    "    return mmin <= pw.count(letter) <= mmax\n",
    "\n",
    "assert check_pw(parse_pw_policy(test2_input1)) == test2_1output1\n",
    "assert check_pw(parse_pw_policy(test2_input2)) == test2_1output2\n",
    "assert check_pw(parse_pw_policy(test2_input3)) == test2_1output3\n",
    "\n",
    "input2: List[Tuple] = data(2, parse_pw_policy)\n",
    "\n",
    "sum(map(check_pw, input2))"
   ]
  },
  {
   "cell_type": "markdown",
   "metadata": {},
   "source": [
    "### Part 2\n",
    "The second part of this puzzle changes the interpretation of the password policy.\n",
    "This digits that used to express min and max before now denote a position in the password string, however the index starts at 1.\n",
    "\n",
    "A password is considered valid with this new policy if it has the specified letter at exactly one of the two given positions. How many passwords are valid?"
   ]
  },
  {
   "cell_type": "code",
   "execution_count": 6,
   "metadata": {},
   "outputs": [
    {
     "data": {
      "text/plain": [
       "280"
      ]
     },
     "execution_count": 6,
     "metadata": {},
     "output_type": "execute_result"
    }
   ],
   "source": [
    "test2_2output1 = True\n",
    "test2_2output2 = False\n",
    "test2_2output3 = False\n",
    "\n",
    "def check_pw2(policy, offset=1) -> bool:\n",
    "    first, second, letter, pw = policy\n",
    "    return (pw[first - offset] == letter) ^ (pw[second - offset] == letter)\n",
    "\n",
    "assert check_pw2(parse_pw_policy(test2_input1)) == test2_2output1\n",
    "assert check_pw2(parse_pw_policy(test2_input2)) == test2_2output2\n",
    "assert check_pw2(parse_pw_policy(test2_input3)) == test2_2output3\n",
    "\n",
    "sum(map(check_pw2, input2))"
   ]
  },
  {
   "cell_type": "markdown",
   "metadata": {},
   "source": [
    "## Day 3: Toboggan Trajectory\n",
    "\n",
    "### Part 1\n",
    "This challenge provides a map that contains '.' for free spaces and '#' for trees.\n",
    "\n",
    "The questions is how many trees are encountered for a given map with a path that takes 3 steps right and 1 down until the bottom of the map is reached with the assumption that the pattern specified in the map repeats infinitely to the right."
   ]
  },
  {
   "cell_type": "code",
   "execution_count": 7,
   "metadata": {},
   "outputs": [
    {
     "data": {
      "text/plain": [
       "220"
      ]
     },
     "execution_count": 7,
     "metadata": {},
     "output_type": "execute_result"
    }
   ],
   "source": [
    "test3_input = ['..##.......',\n",
    "               '#...#...#..',\n",
    "               '.#....#..#.',\n",
    "               '..#.#...#.#',\n",
    "               '.#...##..#.',\n",
    "               '..#.##.....',\n",
    "               '.#.#.#....#',\n",
    "               '.#........#',\n",
    "               '#.##...#...',\n",
    "               '#...##....#',\n",
    "               '.#..#...#.#']\n",
    "test3_1output = 7\n",
    "\n",
    "Grid = List[str]\n",
    "\n",
    "def count_trees_along_slope(grid, dx=3, dy=1, tree='#'):\n",
    "    height = len(grid)\n",
    "    width = len(grid[0])\n",
    "    return sum((grid[row][col % width] == tree)\n",
    "               for row, col in zip(range(0, height, dy), count(0, dx)))\n",
    "\n",
    "assert count_trees_along_slope(test3_input, dx=3, dy=1, tree='#') == test3_1output\n",
    "\n",
    "input3 : Grid = data(3)\n",
    "\n",
    "count_trees_along_slope(input3)"
   ]
  },
  {
   "cell_type": "markdown",
   "metadata": {},
   "source": [
    "### Part 2\n",
    "The second challenge for this day asks for the product of the encountered trees for paths with different slopes."
   ]
  },
  {
   "cell_type": "code",
   "execution_count": 8,
   "metadata": {},
   "outputs": [
    {
     "data": {
      "text/plain": [
       "2138320800"
      ]
     },
     "execution_count": 8,
     "metadata": {},
     "output_type": "execute_result"
    }
   ],
   "source": [
    "test3_2output = 336\n",
    "\n",
    "def count_trees_along_all_slopes(grid):\n",
    "    def t(dx, dy):\n",
    "        return count_trees_along_slope(grid, dx, dy)\n",
    "    return t(1, 1) * t(3, 1) * t(5, 1) * t(7, 1) * t(1, 2)\n",
    "\n",
    "assert count_trees_along_all_slopes(test3_input) == test3_2output\n",
    "\n",
    "count_trees_along_all_slopes(input3)"
   ]
  },
  {
   "cell_type": "markdown",
   "metadata": {},
   "source": [
    "## Day 4: Passport Processing\n",
    "\n",
    "### Part 1\n",
    "For this challenge a batch of passports is given. Each passport is represented as a sequence of key:value pairs. \n",
    "A passport is valid if it contains all expected fields while country id is optional. How many passports are valid?"
   ]
  },
  {
   "cell_type": "code",
   "execution_count": 9,
   "metadata": {},
   "outputs": [
    {
     "data": {
      "text/plain": [
       "254"
      ]
     },
     "execution_count": 9,
     "metadata": {},
     "output_type": "execute_result"
    }
   ],
   "source": [
    "test4_input1 = \"ecl:gry pid:860033327 eyr:2020 hcl:#fffffd byr:1937 iyr:2017 cid:147 hgt:183cm\"\n",
    "test4_input2 = \"iyr:2013 ecl:amb cid:350 eyr:2023 pid:028048884 hcl:#cfa07d byr:1929\"\n",
    "test4_input3 = \"hcl:#ae17e1 iyr:2013 eyr:2024 ecl:brn pid:760753108 byr:1931 hgt:179cm\"\n",
    "test4_input4 = \"hcl:#cfa07d eyr:2025 pid:166559648 iyr:2011 ecl:brn hgt:59in\"\n",
    "\n",
    "test4_output1 = True\n",
    "test4_output2 = False\n",
    "test4_output3 = True\n",
    "test4_output4 = False\n",
    "\n",
    "Passport = dict\n",
    "\n",
    "def parse_passport(passport_string: str) -> Passport:\n",
    "    return Passport(re.findall(r'([a-z]+):([^\\s]+)', passport_string))\n",
    "\n",
    "required_fields = {'byr', 'iyr', 'eyr', 'hgt', 'hcl', 'ecl', 'pid'}\n",
    "\n",
    "def check_passport_fields(Passport) -> bool:\n",
    "    return required_fields.issubset(Passport.keys())\n",
    "\n",
    "assert check_passport_fields(parse_passport(test4_input1)) == test4_output1\n",
    "assert check_passport_fields(parse_passport(test4_input2)) == test4_output2\n",
    "assert check_passport_fields(parse_passport(test4_input3)) == test4_output3\n",
    "assert check_passport_fields(parse_passport(test4_input4)) == test4_output4\n",
    "\n",
    "input4 : List[Passport] = data(4, parse_passport, '\\n\\n')\n",
    "\n",
    "sum(map(check_passport_fields, input4))"
   ]
  },
  {
   "cell_type": "markdown",
   "metadata": {},
   "source": [
    "### Part 2\n",
    "The second part of the puzzle requires passports to not only posses all required fields but also that the values of these fields obey specific rules. How many passports are valid according to the new stricter rules?"
   ]
  },
  {
   "cell_type": "code",
   "execution_count": 10,
   "metadata": {},
   "outputs": [
    {
     "data": {
      "text/plain": [
       "184"
      ]
     },
     "execution_count": 10,
     "metadata": {},
     "output_type": "execute_result"
    }
   ],
   "source": [
    "test4_2input1 = \"eyr:1972 cid:100 hcl:#18171d ecl:amb hgt:170 pid:186cm iyr:2018 byr:1926\"\n",
    "test4_2input2 = \"iyr:2019 hcl:#602927 eyr:1967 hgt:170cm ecl:grn pid:012533040 byr:1946\"\n",
    "test4_2input3 = \"hcl:dab227 iyr:2012 ecl:brn hgt:182cm pid:021572410 eyr:2020 byr:1992 cid:277\"\n",
    "test4_2input4 = \"hgt:59cm ecl:zzz eyr:2038 hcl:74454a iyr:2023 pid:3556412378 byr:2007\"\n",
    "\n",
    "test4_2output1 = False\n",
    "test4_2output2 = False\n",
    "test4_2output3 = False\n",
    "test4_2output4 = False\n",
    "\n",
    "test4_2input5 = \"pid:087499704 hgt:74in ecl:grn iyr:2012 eyr:2030 byr:1980 hcl:#623a2f\"\n",
    "test4_2input6 = \"eyr:2029 ecl:blu cid:129 byr:1989 iyr:2014 pid:896056539 hcl:#a97842 hgt:165cm\"\n",
    "test4_2input7 = \"hcl:#888785 hgt:164cm byr:2001 iyr:2015 cid:88 pid:545766238 ecl:hzl eyr:2022\"\n",
    "test4_2input8 = \"iyr:2010 hgt:158cm hcl:#b6652a ecl:blu byr:1944 eyr:2021 pid:093154719\"\n",
    "\n",
    "test4_2output5 = True\n",
    "test4_2output6 = True\n",
    "test4_2output7 = True\n",
    "test4_2output8 = True\n",
    "\n",
    "def check_passport_values(Passport) -> bool:\n",
    "    '''Passport fields are considered valid acording to these rules:\n",
    "    byr (Birth Year) - four digits; at least 1920 and at most 2002.\n",
    "    iyr (Issue Year) - four digits; at least 2010 and at most 2020.\n",
    "    eyr (Expiration Year) - four digits; at least 2020 and at most 2030.\n",
    "    hgt (Height) - a number followed by either cm or in:\n",
    "        If cm, the number must be at least 150 and at most 193.\n",
    "        If in, the number must be at least 59 and at most 76.\n",
    "    hcl (Hair Color) - a # followed by exactly six characters 0-9 or a-f.\n",
    "    ecl (Eye Color) - exactly one of: amb blu brn gry grn hzl oth.\n",
    "    pid (Passport ID) - a nine-digit number, including leading zeroes.\n",
    "    cid (Country ID) - ignored, missing or not.'''\n",
    "    \n",
    "    byr : bool = 1920 <= int(Passport['byr']) <= 2002\n",
    "    iyr : bool = 2010 <= int(Passport['iyr']) <= 2020\n",
    "    eyr : bool = 2020 <= int(Passport['eyr']) <= 2030\n",
    "    hgt : bool = (((Passport['hgt'][-2:]=='cm') and (150 <= int(Passport['hgt'][:-2]) <= 193)) or\n",
    "                  ((Passport['hgt'][-2:]=='in') and (59 <= int(Passport['hgt'][:-2]) <= 76)))\n",
    "    hcl : bool = bool(re.match('#[0-9a-f]{6}$', Passport['hcl']))\n",
    "    eyecolors = {'amb', 'blu', 'brn', 'gry', 'grn', 'hzl', 'oth'}\n",
    "    ecl : bool = Passport['ecl'] in eyecolors\n",
    "    pid : bool = bool(re.match('[0-9]{9}$', Passport['pid']))\n",
    "    \n",
    "    return all([byr, iyr, eyr, hgt, hcl, ecl, pid])\n",
    "\n",
    "assert check_passport_values(parse_passport(test4_2input1)) == test4_2output1\n",
    "assert check_passport_values(parse_passport(test4_2input2)) == test4_2output2\n",
    "assert check_passport_values(parse_passport(test4_2input3)) == test4_2output3\n",
    "assert check_passport_values(parse_passport(test4_2input4)) == test4_2output4\n",
    "assert check_passport_values(parse_passport(test4_2input5)) == test4_2output5\n",
    "assert check_passport_values(parse_passport(test4_2input6)) == test4_2output6\n",
    "assert check_passport_values(parse_passport(test4_2input7)) == test4_2output7\n",
    "assert check_passport_values(parse_passport(test4_2input8)) == test4_2output8\n",
    "\n",
    "sum(check_passport_values(passport)\n",
    "    for passport in input4 if check_passport_fields(passport))"
   ]
  },
  {
   "cell_type": "markdown",
   "metadata": {},
   "source": [
    "## Day 5: Binary Boarding\n",
    "\n",
    "### Part 1\n",
    "This puzzle provides a list of boarding passes that each specify one seat in the airplane. The airlane uses a binary space partioning approach for seating. Each boarding pass contains 10 characters, the first 7 are either 'F' or 'B' and specify the exact row. The last 3 characters can either be 'R' or 'L' and specify the column of the seat.\n",
    "\n",
    "The airplane has 128 rows (0-127) and 8 columns(0-7). 'F' means front and indicates the lower half of the search space, 'B' means back and designates the upper half of the respective interval. For the column the convention is that 'L' can be interpreted as left and is meant to designate the lower half of the search space, while 'R' or right means the upper half.\n",
    "\n",
    "Additionaly each seat in the airplane has a seat ID that is calculated by row * 8 + column.\n",
    "\n",
    "The challenge is to find the highest seat ID of all provided boarding passes."
   ]
  },
  {
   "cell_type": "code",
   "execution_count": 11,
   "metadata": {},
   "outputs": [
    {
     "data": {
      "text/plain": [
       "955"
      ]
     },
     "execution_count": 11,
     "metadata": {},
     "output_type": "execute_result"
    }
   ],
   "source": [
    "test5_input1 = 'FBFBBFFRLR'\n",
    "test5_input2 = 'BFFFBBFRRR'\n",
    "test5_input3 = 'FFFBBBFRRR'\n",
    "test5_input4 = 'BBFFBBFRLL'\n",
    "\n",
    "test5_output1 = 357\n",
    "test5_output2 = 567\n",
    "test5_output3 = 119\n",
    "test5_output4 = 820\n",
    "\n",
    "Boarding_Pass = str\n",
    "\n",
    "def parse_boarding_pass(Boarding_Pass) -> str:\n",
    "    \"translate the string to binary according to the specified conventions for rows and columns\"\n",
    "    table = str.maketrans('FBRL', '0110')\n",
    "    return Boarding_Pass.translate(table)\n",
    "\n",
    "def get_seat_ID(binary_boarding_pass) -> int:\n",
    "    #the outcommented code was writen before realizing that\n",
    "    #first 7 digits * 8 (equivalent to << 3) + last 3 digits is the same as original string in binary 😅\n",
    "    #row = int(binary_boarding_pass[:-3], 2)\n",
    "    #column = int(binary_boarding_pass[-3:], 2)\n",
    "    #return row * 8 + column\n",
    "    return int(binary_boarding_pass, 2)\n",
    "\n",
    "assert get_seat_ID(parse_boarding_pass(test5_input1)) == test5_output1\n",
    "assert get_seat_ID(parse_boarding_pass(test5_input2)) == test5_output2\n",
    "assert get_seat_ID(parse_boarding_pass(test5_input3)) == test5_output3\n",
    "assert get_seat_ID(parse_boarding_pass(test5_input4)) == test5_output4\n",
    "\n",
    "input5 = data(5, parser=parse_boarding_pass)\n",
    "max(map(get_seat_ID, input5))"
   ]
  },
  {
   "cell_type": "markdown",
   "metadata": {},
   "source": [
    "### Part 2\n",
    "For the second part of this days puzzle a specific seat ID has to be found.\n",
    "The wanted seat ID is not in the list of provided boarding passes.\n",
    "This is not unambigously however so additionaly it is stated that the ID is not at the very front or back of the airplane but within the bulk of all the other seat IDs, as the adjacent IDs are also in the provided list."
   ]
  },
  {
   "cell_type": "code",
   "execution_count": 12,
   "metadata": {},
   "outputs": [
    {
     "data": {
      "text/plain": [
       "569"
      ]
     },
     "execution_count": 12,
     "metadata": {},
     "output_type": "execute_result"
    }
   ],
   "source": [
    "seat_IDs = set(map(get_seat_ID, input5))\n",
    "\n",
    "def find_seat_ID():\n",
    "    id = (set(range(min(seat_IDs), max(seat_IDs))) - (seat_IDs)).pop()\n",
    "    return id\n",
    "\n",
    "find_seat_ID()"
   ]
  },
  {
   "cell_type": "markdown",
   "metadata": {},
   "source": [
    "## Day 6: Custom Customs\n",
    "\n",
    "### Part 1\n",
    "This puzzle provides a list with answers of groups for customs declarations questions. Groups are separted by blank lines. A group can contain answers for multiple persons, all answers for one person are in a single line. There are 26 different custom questions and a positive answer is represented by the corresponding letter in the list. The challenge is to count all different questions that are group answered with yes and to sum up these counts for all groups."
   ]
  },
  {
   "cell_type": "code",
   "execution_count": 13,
   "metadata": {},
   "outputs": [
    {
     "data": {
      "text/plain": [
       "6596"
      ]
     },
     "execution_count": 13,
     "metadata": {},
     "output_type": "execute_result"
    }
   ],
   "source": [
    "test6_input1 = '''abc\n",
    "\n",
    "a\n",
    "b\n",
    "c\n",
    "\n",
    "ab\n",
    "ac\n",
    "\n",
    "a\n",
    "a\n",
    "a\n",
    "a\n",
    "\n",
    "b'''\n",
    "test6_output1 = 11\n",
    "\n",
    "Group = List[str]\n",
    "\n",
    "def parse_group(group_str: str) -> Group:\n",
    "    return group_str.splitlines()\n",
    "\n",
    "def count_groups(groups: List[Group]) -> int:\n",
    "    return sum(len(set.union(*map(set, group))) for group in groups)\n",
    "\n",
    "assert count_groups([parse_group(group) for group in test6_input1.split('\\n\\n')]) == test6_output1\n",
    "\n",
    "input6: List[Group] = data(6, parse_group, sep='\\n\\n')\n",
    "    \n",
    "count_groups(input6)"
   ]
  },
  {
   "cell_type": "markdown",
   "metadata": {},
   "source": [
    "### Part 2\n",
    "For the second part the task is modified slightly to only count the answers in a group that were answered with yes by every person in the group and to then count these for all groups."
   ]
  },
  {
   "cell_type": "code",
   "execution_count": 14,
   "metadata": {},
   "outputs": [
    {
     "data": {
      "text/plain": [
       "3219"
      ]
     },
     "execution_count": 14,
     "metadata": {},
     "output_type": "execute_result"
    }
   ],
   "source": [
    "test6_2output1 = 6\n",
    "\n",
    "def count_groups2(groups: List[Group]) -> int:\n",
    "    return sum(len(set.intersection(*map(set, group))) for group in groups)\n",
    "\n",
    "assert count_groups2([parse_group(group) for group in test6_input1.split('\\n\\n')]) == test6_2output1\n",
    "\n",
    "count_groups2(input6)"
   ]
  },
  {
   "cell_type": "markdown",
   "metadata": {},
   "source": [
    "## Day 7: Handy Haversacks\n",
    "\n",
    "### Part 1\n",
    "This challenge provides a set of baggage rules. Bags are colorcoded and a rule specfies for a colored bag which other colored bags it can contain. The task is to find out how many other colored bags can contain a shiny golden bag either directly or within their other contained bags."
   ]
  },
  {
   "cell_type": "code",
   "execution_count": 15,
   "metadata": {},
   "outputs": [
    {
     "data": {
      "text/plain": [
       "126"
      ]
     },
     "execution_count": 15,
     "metadata": {},
     "output_type": "execute_result"
    }
   ],
   "source": [
    "test7_input1 = '''light red bags contain 1 bright white bag, 2 muted yellow bags.\n",
    "dark orange bags contain 3 bright white bags, 4 muted yellow bags.\n",
    "bright white bags contain 1 shiny gold bag.\n",
    "muted yellow bags contain 2 shiny gold bags, 9 faded blue bags.\n",
    "shiny gold bags contain 1 dark olive bag, 2 vibrant plum bags.\n",
    "dark olive bags contain 3 faded blue bags, 4 dotted black bags.\n",
    "vibrant plum bags contain 5 faded blue bags, 6 dotted black bags.\n",
    "faded blue bags contain no other bags.\n",
    "dotted black bags contain no other bags.'''\n",
    "\n",
    "test7_output1 = 4\n",
    "\n",
    "Bag = str\n",
    "Rules = Dict[Bag, Dict[Bag, int]]\n",
    "\n",
    "def parse_bag_rule(line: str) -> Tuple[Bag, Dict[Bag, int]]:\n",
    "    line = re.sub(' bags?|[.]', '', line) \n",
    "    outer, inner = line.split(' contain ')\n",
    "    return outer, dict(map(parse_inner, inner.split(', ')))\n",
    "\n",
    "def parse_inner(text) -> Tuple[Bag, int]:\n",
    "    \"Return the color and number of inner bags.\"\n",
    "    n, bag = text.split(maxsplit=1)\n",
    "    return bag, (0 if n == 'no' else int(n))\n",
    "\n",
    "assert parse_inner('1 bright white') == ('bright white', 1)\n",
    "assert parse_inner('no other') == ('other', 0)\n",
    "assert dict([parse_bag_rule(test7_input1.splitlines()[0])]) == {'light red': {'bright white': 1, 'muted yellow': 2}}\n",
    "assert dict([parse_bag_rule(test7_input1.splitlines()[-1])]) == {'dotted black': {'other': 0}}\n",
    "\n",
    "input7: Rules = dict(data(7, parse_bag_rule))\n",
    "\n",
    "def count_bags_containing_at_least_one(rules, own_bag='shiny gold') -> int:\n",
    "    @lru_cache(None)\n",
    "    def contains(bag, own_bag) -> bool:\n",
    "        contents = rules.get(bag, {})\n",
    "        return (own_bag in contents or any(contains(inner, own_bag) for inner in contents))\n",
    "    return sum(contains(bag, own_bag) for bag in rules)\n",
    "\n",
    "assert count_bags_containing_at_least_one(dict(map(parse_bag_rule, test7_input1.splitlines()))) == test7_output1\n",
    "\n",
    "count_bags_containing_at_least_one(input7)"
   ]
  },
  {
   "cell_type": "markdown",
   "metadata": {},
   "source": [
    "### Part 2\n",
    "The second part of the challenge is to count all the bags that are contained in a shiny gold bag either directly or within the contained bags."
   ]
  },
  {
   "cell_type": "code",
   "execution_count": 16,
   "metadata": {},
   "outputs": [
    {
     "data": {
      "text/plain": [
       "220149"
      ]
     },
     "execution_count": 16,
     "metadata": {},
     "output_type": "execute_result"
    }
   ],
   "source": [
    "test7_2output1 = 32\n",
    "\n",
    "test7_input2 = '''shiny gold bags contain 2 dark red bags.\n",
    "dark red bags contain 2 dark orange bags.\n",
    "dark orange bags contain 2 dark yellow bags.\n",
    "dark yellow bags contain 2 dark green bags.\n",
    "dark green bags contain 2 dark blue bags.\n",
    "dark blue bags contain 2 dark violet bags.\n",
    "dark violet bags contain no other bags.'''\n",
    "\n",
    "test7_output2 = 126\n",
    "\n",
    "def count_bags_within(rules, own_bag='shiny gold') -> int:\n",
    "    return sum(n + n * count_bags_within(rules, inner)\n",
    "               for (inner, n) in rules[own_bag].items() if n > 0)\n",
    "\n",
    "assert count_bags_within(dict(map(parse_bag_rule, test7_input1.splitlines()))) == test7_2output1\n",
    "assert count_bags_within(dict(map(parse_bag_rule, test7_input2.splitlines()))) == test7_output2\n",
    "\n",
    "count_bags_within(input7)"
   ]
  },
  {
   "cell_type": "markdown",
   "metadata": {},
   "source": [
    "## Day 8: Handheld Halting\n",
    "\n",
    "### Part1\n",
    "This days puzzle provides a little assembly program, where each line consists of an opcode and an argument. Acc puts adds the argument to the accumulator, nop does no operation and is followe by the next instruction while jmp jumps to the relative address given by the argument. The challenge is to execute the given assembly program until it hits a loop for the first time and to return the accumulator value."
   ]
  },
  {
   "cell_type": "code",
   "execution_count": 17,
   "metadata": {},
   "outputs": [
    {
     "data": {
      "text/plain": [
       "1475"
      ]
     },
     "execution_count": 17,
     "metadata": {},
     "output_type": "execute_result"
    }
   ],
   "source": [
    "test8_input1 = '''nop +0\n",
    "acc +1\n",
    "jmp +4\n",
    "acc +3\n",
    "jmp -3\n",
    "acc -99\n",
    "acc +1\n",
    "jmp -4\n",
    "acc +6'''\n",
    "\n",
    "test8_output1 = 5\n",
    "\n",
    "Instruction = Tuple[str, int]\n",
    "Program = List[Instruction]\n",
    "\n",
    "def parse_instruction(line: str) -> Instruction:\n",
    "    opcode, argument = line.split(' ')\n",
    "    return opcode, int(argument)\n",
    "\n",
    "def accumulator_before_loop(program) -> int:\n",
    "    program_counter = accumulator = 0\n",
    "    already_executed= set()\n",
    "    while True:\n",
    "        if program_counter in already_executed:\n",
    "            return accumulator\n",
    "        already_executed.add(program_counter)\n",
    "        opcode, argument = program[program_counter]\n",
    "        if opcode == 'acc':\n",
    "            accumulator += argument\n",
    "            program_counter += 1\n",
    "        if opcode == 'jmp':\n",
    "            program_counter = program_counter + argument\n",
    "        if opcode == 'nop':\n",
    "            program_counter += 1\n",
    "\n",
    "assert accumulator_before_loop([*map(parse_instruction, test8_input1.splitlines())]) == test8_output1\n",
    "    \n",
    "input8 = data(8, parse_instruction)\n",
    "\n",
    "accumulator_before_loop(input8)"
   ]
  },
  {
   "cell_type": "markdown",
   "metadata": {},
   "source": [
    "### Part 2\n",
    "For part 2 exactly one jmp instruction can be swapped to nop or vice versa. The goal is to fix one instruction in the program, so that no loops occur. After the program terminates the accumulator has to be returned for this puzzle."
   ]
  },
  {
   "cell_type": "code",
   "execution_count": 18,
   "metadata": {},
   "outputs": [
    {
     "data": {
      "text/plain": [
       "1270"
      ]
     },
     "execution_count": 18,
     "metadata": {},
     "output_type": "execute_result"
    }
   ],
   "source": [
    "test8_output2 = 8\n",
    "\n",
    "def run(program) -> int:\n",
    "    program_counter = accumulator = 0\n",
    "    already_executed= set()\n",
    "    while program_counter < len(program):\n",
    "        if program_counter in already_executed:\n",
    "            return 0\n",
    "        already_executed.add(program_counter)\n",
    "        opcode, argument = program[program_counter]\n",
    "        if opcode == 'acc':\n",
    "            accumulator += argument\n",
    "            program_counter += 1\n",
    "        if opcode == 'jmp':\n",
    "            program_counter = program_counter + argument\n",
    "        if opcode == 'nop':\n",
    "            program_counter += 1\n",
    "    return accumulator\n",
    "\n",
    "def swap(instruction) -> Instruction:\n",
    "    opcode, argument = instruction\n",
    "    if opcode == 'jmp':\n",
    "        opcode = 'nop'\n",
    "    elif opcode == 'nop':\n",
    "        opcode = 'jmp'\n",
    "    return (opcode, argument)\n",
    "\n",
    "assert swap(('nop', 0)) == ('jmp', 0)\n",
    "assert swap(('acc', 1)) == ('acc', 1)\n",
    "assert swap(('jmp', 4)) == ('nop', 4)\n",
    "\n",
    "def fix_program(program) -> int:\n",
    "    for index in range(len(program)):\n",
    "        program[index] = swap(program[index])\n",
    "        if run(program) != 0:\n",
    "            return run(program)\n",
    "        program[index] = swap(program[index])\n",
    "    \n",
    "assert fix_program([*map(parse_instruction, test8_input1.splitlines())]) == test8_output2\n",
    "\n",
    "fix_program(input8)"
   ]
  },
  {
   "cell_type": "markdown",
   "metadata": {},
   "source": [
    "## Day 9: Encoding Error\n",
    "\n",
    "### Part 1\n",
    "This puzzle provides a list of integers. After an preamble of 25 numbers every following number can be obtained as the sum of 2 of the previous 25 numbers. The challenge is to find the first number in the list, that violates this property."
   ]
  },
  {
   "cell_type": "code",
   "execution_count": 19,
   "metadata": {},
   "outputs": [
    {
     "data": {
      "text/plain": [
       "25918798"
      ]
     },
     "execution_count": 19,
     "metadata": {},
     "output_type": "execute_result"
    }
   ],
   "source": [
    "test9_input1 = '''35\n",
    "20\n",
    "15\n",
    "25\n",
    "47\n",
    "40\n",
    "62\n",
    "55\n",
    "65\n",
    "95\n",
    "102\n",
    "117\n",
    "150\n",
    "182\n",
    "127\n",
    "219\n",
    "299\n",
    "277\n",
    "309\n",
    "576'''\n",
    "\n",
    "test9_output1 = 127\n",
    "\n",
    "def check_two_sum(numbers, target) -> bool:\n",
    "    complements = set()\n",
    "    for x in numbers:\n",
    "        if x in complements:\n",
    "            return True\n",
    "        complements.add(target - x)\n",
    "        \n",
    "    return False\n",
    "\n",
    "def find_outlier(numbers, windowsize=25) -> int:\n",
    "    for i, target in enumerate(numbers[windowsize:]):\n",
    "        if not check_two_sum(numbers[i:i + windowsize], target):\n",
    "            return target\n",
    "\n",
    "assert find_outlier([*map(int, test9_input1.splitlines())], 5) == test9_output1\n",
    "\n",
    "input9 = data(9, int)\n",
    "\n",
    "find_outlier(input9, 25)"
   ]
  },
  {
   "cell_type": "markdown",
   "metadata": {},
   "source": [
    "### Part 2\n",
    "For the second part of the challenge the goal is to find a contiguous sequence of at least 2 numbers in the list that add up to the outlier from part 1. The sum of the minimum and maximum of this sequence has to be returned."
   ]
  },
  {
   "cell_type": "code",
   "execution_count": 20,
   "metadata": {},
   "outputs": [
    {
     "data": {
      "text/plain": [
       "3340942"
      ]
     },
     "execution_count": 20,
     "metadata": {},
     "output_type": "execute_result"
    }
   ],
   "source": [
    "test9_output2 = 62\n",
    "\n",
    "def find_weakness(numbers, windowsize=25) -> int:\n",
    "    outlier = find_outlier(numbers, windowsize)\n",
    "    sequence = find_sequence(numbers, outlier)\n",
    "    return min(sequence) + max(sequence)\n",
    "\n",
    "def find_sequence(numbers, outlier):\n",
    "    sequence = deque()\n",
    "    sequence_sum = 0\n",
    "    for num in numbers:\n",
    "        if sequence_sum < outlier:\n",
    "            sequence.append(num)\n",
    "            sequence_sum += num\n",
    "        if sequence_sum == outlier and len(sequence) >= 2:\n",
    "            return sequence\n",
    "        while sequence_sum > outlier:\n",
    "            sequence_sum -= sequence.popleft()\n",
    "\n",
    "assert find_weakness([*map(int, test9_input1.splitlines())], 5) == test9_output2\n",
    "\n",
    "find_weakness(input9, 25)"
   ]
  },
  {
   "cell_type": "markdown",
   "metadata": {},
   "source": [
    "## Day 10: Adapter Array\n",
    "\n",
    "### Part1\n",
    "This puzzle provides a list of joltage values for charging adapter. Each adapter is rated for joltages 1, 2, or 3, jolts below its own joltage as input. The charging outlet in this puzzle has a joltage of 0 and the device that will be charged is rated for a joltage that is equal to that of the adapter with the largest joltage + 3.\n",
    "\n",
    "The task is to construct a chain that uses all adapters and count the distribution off joltage difference between outlet, adapters and device. The number of all differences of 1 multiplied by the number of all differences of 3 has to be returned as solution."
   ]
  },
  {
   "cell_type": "code",
   "execution_count": 21,
   "metadata": {},
   "outputs": [
    {
     "data": {
      "text/plain": [
       "2738"
      ]
     },
     "execution_count": 21,
     "metadata": {},
     "output_type": "execute_result"
    }
   ],
   "source": [
    "test10_input1 = '''16\n",
    "10\n",
    "15\n",
    "5\n",
    "1\n",
    "11\n",
    "7\n",
    "19\n",
    "6\n",
    "12\n",
    "4'''\n",
    "\n",
    "test10_output1 = 35\n",
    "\n",
    "test10_input2 = '''28\n",
    "33\n",
    "18\n",
    "42\n",
    "31\n",
    "14\n",
    "46\n",
    "20\n",
    "48\n",
    "47\n",
    "24\n",
    "23\n",
    "49\n",
    "45\n",
    "19\n",
    "38\n",
    "39\n",
    "11\n",
    "1\n",
    "32\n",
    "25\n",
    "35\n",
    "8\n",
    "17\n",
    "7\n",
    "9\n",
    "4\n",
    "2\n",
    "34\n",
    "10\n",
    "3'''\n",
    "\n",
    "test10_output2 = 220\n",
    "\n",
    "def build_adapter_chain(adapters) -> int:\n",
    "    chain = [0] + sorted(adapters) + [max(adapters) + 3]\n",
    "    diffs = Counter(chain[i + 1] - chain[i] for i in range(len(chain) - 1))\n",
    "    return diffs[1] * diffs[3]\n",
    "\n",
    "assert build_adapter_chain([*map(int, test10_input1.splitlines())]) == test10_output1\n",
    "assert build_adapter_chain([*map(int, test10_input2.splitlines())]) == test10_output2\n",
    "\n",
    "input10 = data(10, int)\n",
    "\n",
    "build_adapter_chain(input10)"
   ]
  },
  {
   "cell_type": "markdown",
   "metadata": {},
   "source": [
    "### Part 2\n",
    "The Solution to the second part of this days challenge is the number of all valid combinations of adapters from outlet to device."
   ]
  },
  {
   "cell_type": "code",
   "execution_count": 22,
   "metadata": {},
   "outputs": [
    {
     "data": {
      "text/plain": [
       "74049191673856"
      ]
     },
     "execution_count": 22,
     "metadata": {},
     "output_type": "execute_result"
    }
   ],
   "source": [
    "test10_2output1 = 8\n",
    "test10_2output2 = 19208\n",
    "\n",
    "def count_arrangements(adapters) -> int:\n",
    "    chain = [0] + sorted(adapters) + [max(adapters) + 3]\n",
    "    return possible_solutions(tuple(chain), 0)\n",
    "\n",
    "@lru_cache(None)\n",
    "def possible_solutions(chain, previous):\n",
    "    if previous == len(chain) - 1:\n",
    "        return 1\n",
    "\n",
    "    total = 0\n",
    "    for i in range(previous + 1, min(previous + 4, len(chain))):\n",
    "        if chain[i] - chain[previous] <= 3:\n",
    "            total += possible_solutions(chain, i)\n",
    "\n",
    "    return total\n",
    "\n",
    "assert count_arrangements([*map(int, test10_input1.splitlines())]) == test10_2output1\n",
    "assert count_arrangements([*map(int, test10_input2.splitlines())]) == test10_2output2\n",
    "\n",
    "count_arrangements(input10)"
   ]
  },
  {
   "cell_type": "markdown",
   "metadata": {},
   "source": [
    "## Day 11: Seating System\n",
    "\n",
    "### Part 1\n",
    "Todays puzzle is a variation of Conways [Game of Life](https://en.wikipedia.org/wiki/Conway%27s_Game_of_Life). The input represents a grid of a seating map. Each position can either be an empty seat (L), occupied (#) or a floor tile (.) and the following rules determine how a seat can change its state depending on its own state and on that of its 8 immidiate neighbour seats.\n",
    "\n",
    "- If a seat is empty (L) and there are no occupied seats adjacent to it, the seat becomes occupied.\n",
    "- If a seat is empty (L) and there are no occupied seats adjacent to it, the seat becomes occupied.\n",
    "- If a seat is occupied (#) and four or more seats adjacent to it are also occupied, the seat becomes empty. Otherwise, the seat's state does not change.\n",
    "\n",
    "The task is to simulate the given seat map until it stops changing and count the number of occupied seats."
   ]
  },
  {
   "cell_type": "code",
   "execution_count": 23,
   "metadata": {},
   "outputs": [
    {
     "data": {
      "text/plain": [
       "2476"
      ]
     },
     "execution_count": 23,
     "metadata": {},
     "output_type": "execute_result"
    }
   ],
   "source": [
    "test11_input1 = '''L.LL.LL.LL\n",
    "LLLLLLL.LL\n",
    "L.L.L..L..\n",
    "LLLL.LL.LL\n",
    "L.LL.LL.LL\n",
    "L.LLLLL.LL\n",
    "..L.L.....\n",
    "LLLLLLLLLL\n",
    "L.LLLLLL.L\n",
    "L.LLLLL.LL'''\n",
    "\n",
    "test11_output1 = 37\n",
    "\n",
    "Grid = List[str]\n",
    "\n",
    "empty, occupied, floor = 'L#.'\n",
    "\n",
    "def check_neighbors(grid, row, cell) -> int:\n",
    "    deltas = ((-1, -1), (0, -1), (1, -1),\n",
    "              (-1,  0),          (1,  0),\n",
    "              (-1, +1), (0, +1), (1, +1)) \n",
    "    total = 0\n",
    "    for dr, dc in deltas:\n",
    "        nr, nc = row + dr, cell + dc\n",
    "        if 0 <= nr < len(grid) and 0 <= nc < len(grid[0]):\n",
    "            total += grid[nr][nc] == occupied\n",
    "    return total\n",
    "\n",
    "\n",
    "def run(grid, neighbor_function, crowded=4) -> int:\n",
    "    while True:\n",
    "        previous = deepcopy(grid)\n",
    "        \n",
    "        for r, row in enumerate(previous):\n",
    "            for c, cell in enumerate(row):\n",
    "                if cell == floor:\n",
    "                    continue\n",
    "                    \n",
    "                N = neighbor_function(previous, r, c)\n",
    "                \n",
    "                if cell == empty and N == 0:\n",
    "                    grid[r][c] = occupied\n",
    "                elif cell == occupied and N >= crowded:\n",
    "                    grid[r][c] = empty\n",
    "                    \n",
    "        if grid == previous:\n",
    "            return sum(row.count(occupied) for row in grid)\n",
    "\n",
    "        previous = grid\n",
    "\n",
    "assert run(list(map(list, test11_input1.splitlines())), check_neighbors) == test11_output1\n",
    "\n",
    "input11 = data(11, list)\n",
    "run(deepcopy(input11), check_neighbors)"
   ]
  },
  {
   "cell_type": "markdown",
   "metadata": {},
   "source": [
    "### Part 2\n",
    "For the second Part there are two rule changes:\n",
    "- An occupied seat turns empty if 5 or more (instead of 4) neigboring seats are also occupied.\n",
    "- Instead of considering just the eight immediately adjacent seats, now the first seat visible across floor tiles in each of the eight directions is considered to determine how many neighboring seats are occupied.\n",
    "\n",
    "The solution is again the number of occupied seats after the simulation converges."
   ]
  },
  {
   "cell_type": "code",
   "execution_count": 24,
   "metadata": {},
   "outputs": [
    {
     "data": {
      "text/plain": [
       "2257"
      ]
     },
     "execution_count": 24,
     "metadata": {},
     "output_type": "execute_result"
    }
   ],
   "source": [
    "test11_2output1 = 26\n",
    "\n",
    "def check_neighbors_visible(grid, row, cell) -> int:\n",
    "    deltas = ((-1, -1), (0, -1), (1, -1),\n",
    "              (-1,  0),          (1,  0),\n",
    "              (-1, +1), (0, +1), (1, +1)) \n",
    "    total = 0\n",
    "    for dr, dc in deltas:\n",
    "        nr, nc = row + dr, cell + dc\n",
    "        while 0 <= nr < len(grid) and 0 <= nc < len(grid[0]):\n",
    "            if grid[nr][nc] != floor:\n",
    "                total += grid[nr][nc] == occupied\n",
    "                break\n",
    "            nr += dr\n",
    "            nc += dc\n",
    "    return total\n",
    "\n",
    "assert run(list(map(list, test11_input1.splitlines())), check_neighbors_visible, crowded=5) == test11_2output1\n",
    "\n",
    "run(input11, check_neighbors_visible, crowded=5)"
   ]
  },
  {
   "cell_type": "markdown",
   "metadata": {},
   "source": [
    "## Day 12: Rain Risk\n",
    "\n",
    "### Part 1\n",
    "This puzzle provides a list of navigation actions for a ship. Each action starts with a single letter followed by a value and has the following meaning:\n",
    "- Action N means to move north by the given value.\n",
    "- Action S means to move south by the given value.\n",
    "- Action E means to move east by the given value.\n",
    "- Action W means to move west by the given value.\n",
    "- Action L means to turn left the given number of degrees.\n",
    "- Action R means to turn right the given number of degrees.\n",
    "- Action F means to move forward by the given value in the direction the ship is currently facing.\n",
    "\n",
    "The ship starts facing east and only the two actions left and right can change the orientation of the ship.\n",
    "\n",
    "What is the [Manhattan distance](https://en.wikipedia.org/wiki/Taxicab_geometry) between the starting position and the ships position after following all provided navigation instructions?"
   ]
  },
  {
   "cell_type": "code",
   "execution_count": 25,
   "metadata": {},
   "outputs": [
    {
     "data": {
      "text/plain": [
       "1106"
      ]
     },
     "execution_count": 25,
     "metadata": {},
     "output_type": "execute_result"
    }
   ],
   "source": [
    "test12_input1 = '''F10\n",
    "N3\n",
    "F7\n",
    "R90\n",
    "F11'''\n",
    "\n",
    "test12_output1 = 25\n",
    "\n",
    "Point = Course = Tuple[int, int]\n",
    "\n",
    "north, east, south, west = 'NESW'\n",
    "left, right, forward = 'LRF'\n",
    "\n",
    "directions = {north: (0, 1), east: (1, 0), south: (0, -1), west: (-1, 0)}\n",
    "\n",
    "def navigate(instructions, position=(0, 0), course=(directions[east])) -> int:\n",
    "    for  command, value in instructions:\n",
    "        if command == left or command == right:\n",
    "            course = turn(course, command, value)\n",
    "        elif command == forward:\n",
    "            position = move(value, position, course)\n",
    "        else:\n",
    "            position = move(value, position, directions[command])\n",
    "        \n",
    "    return manhattan_distance(position[0], position[1])\n",
    "        \n",
    "def turn(course, command, value) -> Course:\n",
    "    if value % 360 == 0:\n",
    "        return course\n",
    "    elif ((value % 360 == 90) and (command == right)) or ((value % 360 == 270) and (command == left)):\n",
    "        return (course[1], course[0] * -1)\n",
    "    elif value % 360 == 180:\n",
    "        return tuple([-1 * coord for coord in course])\n",
    "    else: # equivalent to value % 360 == 270) and command == right or value % 360 == 90 and command == left\n",
    "        return (course[1] * -1, course[0])\n",
    "        \n",
    "def move(value, position, direction) -> Point:\n",
    "    return (position[0] + value * direction[0], position[1] + value * direction[1])\n",
    "\n",
    "def manhattan_distance(x, y) -> int:\n",
    "    return abs(x) + abs(y)\n",
    "\n",
    "def parse_nav_instruction(line) -> Instruction:\n",
    "    return line[0], int(line[1:])\n",
    "\n",
    "assert navigate([*map(parse_nav_instruction, test12_input1.splitlines())]) == test12_output1\n",
    "\n",
    "input12 = data(12, parse_nav_instruction)\n",
    "navigate(input12)"
   ]
  },
  {
   "cell_type": "markdown",
   "metadata": {},
   "source": [
    "### Part 2\n",
    "For the second part of the puzzle a waypoint is introduced and the rules change:\n",
    "- Action N means to move the waypoint north by the given value.\n",
    "- Action S means to move the waypoint south by the given value.\n",
    "- Action E means to move the waypoint east by the given value.\n",
    "- Action W means to move the waypoint west by the given value.\n",
    "- Action L means to rotate the waypoint around the ship left (counter-clockwise) the given number of degrees.\n",
    "- Action R means to rotate the waypoint around the ship right (clockwise) the given number of degrees.\n",
    "- Action F means to move forward to the waypoint a number of times equal to the given value.\n",
    "\n",
    "The waypoint starts 10 units east and 1 unit north relative to the ship. The waypoint is relative to the ship; that is, if the ship moves, the waypoint moves with it.\n",
    "\n",
    "The solution is again the manhattan distance between the ships starting location and the final position after following the updatet navigation instructions."
   ]
  },
  {
   "cell_type": "code",
   "execution_count": 26,
   "metadata": {},
   "outputs": [
    {
     "data": {
      "text/plain": [
       "107281"
      ]
     },
     "execution_count": 26,
     "metadata": {},
     "output_type": "execute_result"
    }
   ],
   "source": [
    "test12_output2 = 286\n",
    "\n",
    "def navigate_waypoint(instructions, position=(0, 0), waypoint=(10, 1)) -> int:\n",
    "    for command, value in instructions:\n",
    "        if command == left or command == right:\n",
    "            waypoint = turn(waypoint, command, value)\n",
    "        elif command == forward:\n",
    "            position = move(value, position, waypoint)\n",
    "        else:\n",
    "            waypoint = move(value, waypoint, directions[command])\n",
    "        \n",
    "    return manhattan_distance(position[0], position[1])\n",
    "\n",
    "assert navigate_waypoint([*map(parse_nav_instruction, test12_input1.splitlines())]) == test12_output2\n",
    "\n",
    "navigate_waypoint(input12)"
   ]
  },
  {
   "cell_type": "markdown",
   "metadata": {},
   "source": [
    "## Day 13: Shuttle Search\n",
    "\n",
    "### Part 1\n",
    "This challenge deals with a bus-shuttle-schedule. The schedule is defined based on a timestamp that measures the number of minutes since some fixed reference point in the past.\n",
    "\n",
    "At timestamp 0 all buses start their routes from the port and drive on to eventually come back to the port where they started and then repeat their tour infinitely. However the duration of the different bus tours differs and the duration of each bus' tour is represented in its ID which gives the duration in minutes.\n",
    "\n",
    "So the bus with ID 15 would depart every 15 minutes and so on...\n",
    "\n",
    "The input to the puzzle provides an start timestamp and a schedule of busses with their IDs.\n",
    "The solution is to find the bus ID of the earliest departing bus after the start timestamp multiplied by the waiting duration in minutes."
   ]
  },
  {
   "cell_type": "code",
   "execution_count": 27,
   "metadata": {},
   "outputs": [
    {
     "data": {
      "text/plain": [
       "296"
      ]
     },
     "execution_count": 27,
     "metadata": {},
     "output_type": "execute_result"
    }
   ],
   "source": [
    "test13_input1 = '''939\n",
    "7,13,x,x,59,x,31,19'''\n",
    "\n",
    "test13_output1 = 295\n",
    "\n",
    "def parse_timetable(line):\n",
    "    return [int(x) for x in line.split(',') if x != 'x']\n",
    "\n",
    "def find_earliest_bus(timetable) -> int:\n",
    "    departure = timetable[0][0]\n",
    "    bus_id = min(timetable[1], key=lambda bus: bus - (departure % bus))        \n",
    "    return bus_id * (bus_id - (departure % bus_id))\n",
    "\n",
    "assert find_earliest_bus([*map(parse_timetable, test13_input1.splitlines())]) == test13_output1\n",
    "\n",
    "input13_1 = data(13, parse_timetable)\n",
    "find_earliest_bus(input13_1)"
   ]
  },
  {
   "cell_type": "markdown",
   "metadata": {},
   "source": [
    "### Part 2\n",
    "The second part of the challenge is to find the earliest timestamp such that the first bus ID departs at that time and each subsequent listed bus ID departs at that subsequent minute, that is represented by the index in the schedule.\n",
    "\n",
    "So the first bus(index 0) in the schedule starts at timestamp t, the second bus(index 1) in the schedule starts at timestamp t+1, the nth bus starts at t+n and so on..."
   ]
  },
  {
   "cell_type": "code",
   "execution_count": 28,
   "metadata": {},
   "outputs": [
    {
     "data": {
      "text/plain": [
       "535296695251210"
      ]
     },
     "execution_count": 28,
     "metadata": {},
     "output_type": "execute_result"
    }
   ],
   "source": [
    "test13_2output1 = 1068781\n",
    "\n",
    "test13_input2 = '17,x,13,19'\n",
    "test13_input3 = '67,7,59,61'\n",
    "test13_input4 = '67,x,7,59,61'\n",
    "test13_input5 = '67,7,x,59,61'\n",
    "test13_input6 = '1789,37,47,1889'\n",
    "\n",
    "test13_output2 = 3417\n",
    "test13_output3 = 754018\n",
    "test13_output4 = 779210\n",
    "test13_output5 = 1261476\n",
    "test13_output6 = 1202161486\n",
    "\n",
    "def find_earliest_timestamp(timetable) -> int:\n",
    "    bus_periods = []\n",
    "    for index, value in enumerate(timetable):\n",
    "        if value != 'x':\n",
    "            bus_periods.append((index, int(value)))\n",
    "    time, step = bus_periods[0]\n",
    "    for delta, period in bus_periods[1:]:\n",
    "        for time in count(time, step):\n",
    "            if (time + delta) % period == 0:\n",
    "                break\n",
    "        step = least_common_multiple(step, period)\n",
    "    return time\n",
    "\n",
    "def least_common_multiple(x, y) -> int:\n",
    "    return x * y // gcd(x, y)\n",
    "\n",
    "assert find_earliest_timestamp(test13_input1.splitlines()[1].split(',')) == test13_2output1\n",
    "assert find_earliest_timestamp(test13_input2.split(',')) == test13_output2\n",
    "assert find_earliest_timestamp(test13_input3.split(',')) == test13_output3\n",
    "assert find_earliest_timestamp(test13_input4.split(',')) == test13_output4\n",
    "assert find_earliest_timestamp(test13_input5.split(',')) == test13_output5\n",
    "assert find_earliest_timestamp(test13_input6.split(',')) == test13_output6\n",
    "\n",
    "input13_2 = data(13)\n",
    "find_earliest_timestamp(input13_2[1].split(','))"
   ]
  },
  {
   "cell_type": "markdown",
   "metadata": {},
   "source": [
    "## Day 14: Docking Data\n",
    "\n",
    "### Part 1\n",
    "This puzzle provides an initialization program. The instructions can do one of two things.\n",
    "- update the bitmask\n",
    "- write a value to a memory address\n",
    "\n",
    "Values and memory addresses are both 36-bit unsigned integers. The current bitmask is applied to values immediately before they are written to memory: a 0 or 1 overwrites the corresponding bit in the value, while an X leaves the bit in the value unchanged.\n",
    "\n",
    "All memory values are initialized with 0. What is the sum of all values in memory after the program finishes?"
   ]
  },
  {
   "cell_type": "code",
   "execution_count": 29,
   "metadata": {},
   "outputs": [
    {
     "data": {
      "text/plain": [
       "5055782549997"
      ]
     },
     "execution_count": 29,
     "metadata": {},
     "output_type": "execute_result"
    }
   ],
   "source": [
    "test14_input1 = '''mask = XXXXXXXXXXXXXXXXXXXXXXXXXXXXX1XXXX0X\n",
    "mem[8] = 11\n",
    "mem[7] = 101\n",
    "mem[8] = 0'''\n",
    "\n",
    "test14_output1 = 165\n",
    "\n",
    "memline = re.compile(r'mem\\[(\\d+)\\] = (\\d+)')\n",
    "\n",
    "def parse_program(line) -> tuple:\n",
    "    if line.startswith('mask'):\n",
    "        return ('mask', line.split(' = ')[1])\n",
    "    else:\n",
    "        return tuple(map(int, memline.findall(line)[0]))\n",
    "\n",
    "def binary_36bit(i) -> str:\n",
    "    return f'{i:036b}'\n",
    "\n",
    "def masked(mask, bitstring) -> int:\n",
    "    return int(''.join((m if m != 'X' else b for m, b in zip(mask, bitstring))), 2)\n",
    "\n",
    "def run_program(program) -> int:\n",
    "    mem = dict()\n",
    "    mask = binary_36bit(0)\n",
    "    for address, value in program:\n",
    "        if address == 'mask':\n",
    "            mask = value\n",
    "        else:\n",
    "            mem[address] = masked(mask, binary_36bit(value))\n",
    "            \n",
    "    return sum(mem[key] for key in mem)\n",
    "\n",
    "assert run_program([*map(parse_program, test14_input1.splitlines())]) == test14_output1\n",
    "\n",
    "input14 = data(14, parse_program)\n",
    "run_program(input14)"
   ]
  },
  {
   "cell_type": "markdown",
   "metadata": {},
   "source": [
    "### Part 2\n",
    "Rules changed slightly for the second part. Values writen to memory are not affected anymore by the mask, instead the mask is apllied to the address:\n",
    "- If the bitmask bit is 0, the corresponding memory address bit is unchanged.\n",
    "- If the bitmask bit is 1, the corresponding memory address bit is overwritten with 1.\n",
    "- If the bitmask bit is X, the corresponding memory address bit is floating.\n",
    "\n",
    "Floating means the address bit takes all possible states, so the write hits not one single memory address but potentially multiple for all possible combinations of 0 and 1 for the floating bits in the address. What is the sum of all values in memory after the program finishes?"
   ]
  },
  {
   "cell_type": "code",
   "execution_count": 30,
   "metadata": {},
   "outputs": [
    {
     "data": {
      "text/plain": [
       "4795970362286"
      ]
     },
     "execution_count": 30,
     "metadata": {},
     "output_type": "execute_result"
    }
   ],
   "source": [
    "test14_input2 = '''mask = 000000000000000000000000000000X1001X\n",
    "mem[42] = 100\n",
    "mask = 00000000000000000000000000000000X0XX\n",
    "mem[26] = 1'''\n",
    "\n",
    "test14_output2 = 208\n",
    "\n",
    "def masked2(mask, bitstring) -> int:\n",
    "    return ''.join(('X' if m == 'X' else m if m == '1' else b for m, b in zip(mask, bitstring)))\n",
    "\n",
    "def run_program2(program) -> int():\n",
    "    mem = dict()\n",
    "    mask = binary_36bit(0)\n",
    "    for address, value in program:\n",
    "        if address == 'mask':\n",
    "            mask = value\n",
    "        else:\n",
    "            address = masked2(mask, binary_36bit(address))\n",
    "            if address.count('X') == 0:\n",
    "                mem[int(address, 2)] = value\n",
    "            else:\n",
    "                addresses = []\n",
    "                for m, a in zip(mask, address):\n",
    "                    if m == 'X':\n",
    "                        addresses.append('10')\n",
    "                    elif m == '1':\n",
    "                        addresses.append('1')\n",
    "                    else:\n",
    "                        addresses.append(a)\n",
    "                        \n",
    "                for addr in product(*addresses):\n",
    "                    mem[int(''.join(addr), 2)] = value\n",
    "        \n",
    "    return sum(mem[key] for key in mem)\n",
    "\n",
    "assert run_program2([*map(parse_program, test14_input2.splitlines())]) == test14_output2\n",
    "\n",
    "run_program2(input14)"
   ]
  },
  {
   "cell_type": "markdown",
   "metadata": {},
   "source": [
    "## Day 15: Rambunctious Recitation\n",
    "\n",
    "### Part 1\n",
    "This days puzzle is about a memory game. In this game, the players take turns saying numbers. They begin by taking turns reading from a list of starting numbers. Then, each turn consists of considering the most recently spoken number:\n",
    "\n",
    "- If that was the first time the number has been spoken, the current player says 0.\n",
    "- Otherwise, the number had been spoken before; the current player announces how many turns apart the number is from when it was previously spoken.\n",
    "\n",
    "So, after the starting numbers, each turn results in either 0 (if the last number is new) or an age (if the last number is a repeat).\n",
    "\n",
    "What will be the 2020th number spoken?"
   ]
  },
  {
   "cell_type": "code",
   "execution_count": 31,
   "metadata": {},
   "outputs": [
    {
     "data": {
      "text/plain": [
       "870"
      ]
     },
     "execution_count": 31,
     "metadata": {},
     "output_type": "execute_result"
    }
   ],
   "source": [
    "test15_input1 = [0,3,6]\n",
    "\n",
    "test15_output1 = 436\n",
    "\n",
    "def memory_game(numbers, end=2020) -> int:\n",
    "    last_index = {num: index for index, num in enumerate(numbers)}\n",
    "    last = 0\n",
    "    \n",
    "    for index in range(len(numbers), end - 1):\n",
    "        if last in last_index:\n",
    "            new = index - last_index[last]\n",
    "        else:\n",
    "            new = 0\n",
    "\n",
    "        last_index[last] = index\n",
    "        last = new\n",
    "\n",
    "    return new\n",
    "\n",
    "assert memory_game(test15_input1) == test15_output1\n",
    "\n",
    "input15 = data(15, int)\n",
    "\n",
    "memory_game(input15)"
   ]
  },
  {
   "cell_type": "markdown",
   "metadata": {},
   "source": [
    "### Part 2 \n",
    "For the second part not the number after turn 2020 but instead 30000000 is wanted."
   ]
  },
  {
   "cell_type": "code",
   "execution_count": 32,
   "metadata": {},
   "outputs": [
    {
     "data": {
      "text/plain": [
       "9136"
      ]
     },
     "execution_count": 32,
     "metadata": {},
     "output_type": "execute_result"
    }
   ],
   "source": [
    "test15_2output1 = 175594\n",
    "\n",
    "assert memory_game(test15_input1, 30000000) == test15_2output1\n",
    "\n",
    "memory_game(input15, 30000000)"
   ]
  }
 ],
 "metadata": {
  "kernelspec": {
   "display_name": "Python 3",
   "language": "python",
   "name": "python3"
  },
  "language_info": {
   "codemirror_mode": {
    "name": "ipython",
    "version": 3
   },
   "file_extension": ".py",
   "mimetype": "text/x-python",
   "name": "python",
   "nbconvert_exporter": "python",
   "pygments_lexer": "ipython3",
   "version": "3.8.5"
  }
 },
 "nbformat": 4,
 "nbformat_minor": 4
}
