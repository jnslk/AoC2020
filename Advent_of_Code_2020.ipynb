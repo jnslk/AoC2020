{
 "cells": [
  {
   "cell_type": "markdown",
   "metadata": {},
   "source": [
    "# Advent of Code\n",
    "\n",
    "This notebook contains my solutions for the 2020 version of [Advent of Code](https://adventofcode.com/2020).\n",
    "\n",
    "### Imports and Dataimport"
   ]
  },
  {
   "cell_type": "code",
   "execution_count": 2,
   "metadata": {},
   "outputs": [],
   "source": [
    "from itertools   import count\n",
    "from typing      import Tuple, List\n",
    "\n",
    "import re"
   ]
  },
  {
   "cell_type": "code",
   "execution_count": 4,
   "metadata": {},
   "outputs": [],
   "source": [
    "def data(day: int, parser=str, sep='\\n') -> list:\n",
    "    \"Split the day's input file into sections separated by `sep`, and apply `parser` to each.\"\n",
    "    with open(f'data/day{day}.txt') as f:\n",
    "        sections = f.read().rstrip().split(sep)\n",
    "        return list(map(parser, sections))"
   ]
  },
  {
   "cell_type": "markdown",
   "metadata": {},
   "source": [
    "## Day 1: Report Repair\n",
    "\n",
    "### Part 1\n",
    "The first challenge is to find two numbers in a list that add up to 2020 and return their product."
   ]
  },
  {
   "cell_type": "code",
   "execution_count": 6,
   "metadata": {},
   "outputs": [
    {
     "data": {
      "text/plain": [
       "926464"
      ]
     },
     "execution_count": 6,
     "metadata": {},
     "output_type": "execute_result"
    }
   ],
   "source": [
    "test1_input = [1721, 979, 366, 299, 675, 1456]\n",
    "# 1721 + 299 = 2020 and 1721 * 299 = 514579\n",
    "test1_1output = 514579\n",
    "\n",
    "# simple brute force approach with nested for loops and quadratic runtime complexity in relation to the input size\n",
    "def day1_1dumb(nums):\n",
    "    for x in nums:\n",
    "        for y in nums:\n",
    "            if (y == 2020 - x):\n",
    "                return x * y\n",
    "\n",
    "def day1_1(nums):\n",
    "    complements = set()\n",
    "    for x in nums:\n",
    "        y = 2020 - x\n",
    "        \n",
    "        if x in complements:\n",
    "            return x * y\n",
    "        \n",
    "        complements.add(y)\n",
    "        \n",
    "assert day1_1dumb(set(test1_input)) == test1_1output\n",
    "assert day1_1(set(test1_input)) == test1_1output\n",
    "\n",
    "input1 = set(data(1, int))\n",
    "day1_1(input1)"
   ]
  },
  {
   "cell_type": "markdown",
   "metadata": {},
   "source": [
    "### Part 2\n",
    "The second part of the puzzle is to find the three distinct numbers that add to 2020 and return their product."
   ]
  },
  {
   "cell_type": "code",
   "execution_count": 7,
   "metadata": {},
   "outputs": [
    {
     "data": {
      "text/plain": [
       "65656536"
      ]
     },
     "execution_count": 7,
     "metadata": {},
     "output_type": "execute_result"
    }
   ],
   "source": [
    "test1_input = [1721, 979, 366, 299, 675, 1456]\n",
    "# 979 + 366 + 675 = 2020 and 979 * 366 * 675 = 241861950\n",
    "test1_2output = 241861950\n",
    "\n",
    "# simple brute force approach with three nested for loops and cubic runtime complexity in relation to the input size\n",
    "def day1_2dumb(nums):\n",
    "    for x in nums:\n",
    "        for y in nums:\n",
    "            for z in nums:\n",
    "                if (z == 2020 - y - x):\n",
    "                    return x * y * z\n",
    "\n",
    "def day1_2(nums):\n",
    "    for x in nums:\n",
    "        complements = set()\n",
    "        yz = 2020 - x\n",
    "\n",
    "        for y in nums:\n",
    "            z = yz - y\n",
    "\n",
    "            if y in complements:\n",
    "                return x * y * z\n",
    "\n",
    "            complements.add(z)\n",
    "\n",
    "assert day1_2dumb(set(test1_input)) == test1_2output\n",
    "assert day1_2(set(test1_input)) == test1_2output\n",
    "\n",
    "input1 = set(data(1, int))\n",
    "day1_2(input1)"
   ]
  },
  {
   "cell_type": "markdown",
   "metadata": {},
   "source": [
    "### Benchmark"
   ]
  },
  {
   "cell_type": "code",
   "execution_count": 8,
   "metadata": {},
   "outputs": [
    {
     "name": "stdout",
     "output_type": "stream",
     "text": [
      "1.37 ms ± 75.9 µs per loop (mean ± std. dev. of 7 runs, 1000 loops each)\n"
     ]
    }
   ],
   "source": [
    "%timeit day1_1dumb(input1)"
   ]
  },
  {
   "cell_type": "code",
   "execution_count": 9,
   "metadata": {},
   "outputs": [
    {
     "name": "stdout",
     "output_type": "stream",
     "text": [
      "22.7 µs ± 233 ns per loop (mean ± std. dev. of 7 runs, 10000 loops each)\n"
     ]
    }
   ],
   "source": [
    "%timeit day1_1(input1)"
   ]
  },
  {
   "cell_type": "code",
   "execution_count": 10,
   "metadata": {},
   "outputs": [
    {
     "name": "stdout",
     "output_type": "stream",
     "text": [
      "123 ms ± 8.84 ms per loop (mean ± std. dev. of 7 runs, 10 loops each)\n"
     ]
    }
   ],
   "source": [
    "%timeit day1_2dumb(input1)"
   ]
  },
  {
   "cell_type": "code",
   "execution_count": 11,
   "metadata": {},
   "outputs": [
    {
     "name": "stdout",
     "output_type": "stream",
     "text": [
      "988 µs ± 48.5 µs per loop (mean ± std. dev. of 7 runs, 1000 loops each)\n"
     ]
    }
   ],
   "source": [
    "%timeit day1_2(input1)"
   ]
  },
  {
   "cell_type": "markdown",
   "metadata": {},
   "source": [
    "## Day 2: Password Philosophy\n",
    "\n",
    "### Part 1\n",
    "The First part of this days challenge is to count how many passwords are valid according to their policies.\n",
    "\n",
    "A given password string is considered valid if it contains between min and max instances of a specific character, where min, max and the character are specified in the policy."
   ]
  },
  {
   "cell_type": "code",
   "execution_count": 13,
   "metadata": {},
   "outputs": [
    {
     "data": {
      "text/plain": [
       "378"
      ]
     },
     "execution_count": 13,
     "metadata": {},
     "output_type": "execute_result"
    }
   ],
   "source": [
    "test2_input1 = '1-3 a: abcde'\n",
    "test2_input2 = '1-3 b: cdefg'\n",
    "test2_input3 ='2-9 c: ccccccccc'\n",
    "test2_1output1 = True\n",
    "test2_1output2 = False\n",
    "test2_1output3 = True\n",
    "\n",
    "Pw_Policy = Tuple[int, int, str, str]\n",
    "\n",
    "def parse_pw_policy(line: str) -> Pw_Policy:\n",
    "    \"Given '1-3 b: cdefg', return (1, 3, 'b', 'cdefg').\"\n",
    "    mmin, mmax, letter, pw = re.findall(r'[^-:\\s]+', line)\n",
    "    return (int(mmin), int(mmax), letter, pw)\n",
    "\n",
    "def check_pw(policy) -> bool:\n",
    "    mmin, mmax, letter, pw = policy\n",
    "    return mmin <= pw.count(letter) <= mmax\n",
    "\n",
    "assert check_pw(parse_pw_policy(test2_input1)) == test2_1output1\n",
    "assert check_pw(parse_pw_policy(test2_input2)) == test2_1output2\n",
    "assert check_pw(parse_pw_policy(test2_input3)) == test2_1output3\n",
    "\n",
    "input2: List[Tuple] = data(2, parse_pw_policy)\n",
    "\n",
    "valid = 0\n",
    "for pw_string in list(map(check_pw,input2)):\n",
    "    if pw_string == True:\n",
    "        valid += 1\n",
    "valid"
   ]
  },
  {
   "cell_type": "markdown",
   "metadata": {},
   "source": [
    "### Part 2\n",
    "The second part of this puzzle changes the interpretation of the password policy.\n",
    "This digits that used to express min and max before now denote a position in the password string, however the index starts at 1.\n",
    "\n",
    "A password is considered valid with this new policy if it has the specified letter at exactly one of the two given positions. How many passwords are valid?"
   ]
  },
  {
   "cell_type": "code",
   "execution_count": 16,
   "metadata": {},
   "outputs": [
    {
     "data": {
      "text/plain": [
       "280"
      ]
     },
     "execution_count": 16,
     "metadata": {},
     "output_type": "execute_result"
    }
   ],
   "source": [
    "test2_2output1 = True\n",
    "test2_2output2 = False\n",
    "test2_2output3 = False\n",
    "\n",
    "def check_pw2(policy, offset=1) -> bool:\n",
    "    first, second, letter, pw = policy\n",
    "    return (pw[first - offset] == letter) ^ (pw[second - offset] == letter)\n",
    "\n",
    "assert check_pw2(parse_pw_policy(test2_input1)) == test2_2output1\n",
    "assert check_pw2(parse_pw_policy(test2_input2)) == test2_2output2\n",
    "assert check_pw2(parse_pw_policy(test2_input3)) == test2_2output3\n",
    "\n",
    "valid = 0\n",
    "for pw_string in list(map(check_pw2,input2)):\n",
    "    if pw_string == True:\n",
    "        valid += 1\n",
    "valid"
   ]
  },
  {
   "cell_type": "markdown",
   "metadata": {},
   "source": [
    "## Day 3: Toboggan Trajectory\n",
    "\n",
    "### Part 1\n",
    "This challenge provides a map that contains '.' for free spaces and '#' for trees.\n",
    "\n",
    "The questions is how many trees are encountered for a given map with a path that takes 3 steps right and 1 down until the bottom of the map is reached with the assumption that the pattern specified in the map repeats infinitely to the right."
   ]
  },
  {
   "cell_type": "code",
   "execution_count": 17,
   "metadata": {},
   "outputs": [
    {
     "data": {
      "text/plain": [
       "220"
      ]
     },
     "execution_count": 17,
     "metadata": {},
     "output_type": "execute_result"
    }
   ],
   "source": [
    "test3_input = ['..##.......',\n",
    "               '#...#...#..',\n",
    "               '.#....#..#.',\n",
    "               '..#.#...#.#',\n",
    "               '.#...##..#.',\n",
    "               '..#.##.....',\n",
    "               '.#.#.#....#',\n",
    "               '.#........#',\n",
    "               '#.##...#...',\n",
    "               '#...##....#',\n",
    "               '.#..#...#.#']\n",
    "test3_1output = 7\n",
    "\n",
    "Grid = List[str]\n",
    "\n",
    "def count_trees_along_slope(grid, dx=3, dy=1, tree='#'):\n",
    "    height = len(grid)\n",
    "    width = len(grid[0])\n",
    "    trees = 0\n",
    "    col = 0\n",
    "    for row, col in zip(range(0, height, dy), count(0, dx)):\n",
    "        if grid[row][col % width] == tree:\n",
    "            trees += 1\n",
    "    return trees\n",
    "\n",
    "assert count_trees_along_slope(test3_input, dx=3, dy=1, tree='#') == test3_1output\n",
    "\n",
    "input3 : Grid = data(3)\n",
    "\n",
    "count_trees_along_slope(input3)"
   ]
  },
  {
   "cell_type": "markdown",
   "metadata": {},
   "source": [
    "### Part2\n",
    "The second challenge for this day asks for the product of the encountered trees for paths with different slopes."
   ]
  },
  {
   "cell_type": "code",
   "execution_count": 18,
   "metadata": {},
   "outputs": [
    {
     "data": {
      "text/plain": [
       "2138320800"
      ]
     },
     "execution_count": 18,
     "metadata": {},
     "output_type": "execute_result"
    }
   ],
   "source": [
    "test3_2output = 336\n",
    "\n",
    "def count_trees_along_all_slopes(grid):\n",
    "    def t(dx, dy):\n",
    "        return count_trees_along_slope(grid, dx, dy)\n",
    "    return t(1, 1) * t(3, 1) * t(5, 1) * t(7, 1) * t(1, 2)\n",
    "\n",
    "assert count_trees_along_all_slopes(test3_input) == test3_2output\n",
    "\n",
    "count_trees_along_all_slopes(input3)"
   ]
  }
 ],
 "metadata": {
  "kernelspec": {
   "display_name": "myenv_kernel2",
   "language": "python",
   "name": "myenv_kernel2"
  },
  "language_info": {
   "codemirror_mode": {
    "name": "ipython",
    "version": 3
   },
   "file_extension": ".py",
   "mimetype": "text/x-python",
   "name": "python",
   "nbconvert_exporter": "python",
   "pygments_lexer": "ipython3",
   "version": "3.6.10"
  }
 },
 "nbformat": 4,
 "nbformat_minor": 4
}
