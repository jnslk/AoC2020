{
 "cells": [
  {
   "cell_type": "markdown",
   "metadata": {},
   "source": [
    "# Advent of Code\n",
    "\n",
    "This notebook contains my solutions for the 2020 version of [Advent of Code](https://adventofcode.com/2020).\n",
    "\n",
    "### Imports and Dataimport"
   ]
  },
  {
   "cell_type": "code",
   "execution_count": 1,
   "metadata": {},
   "outputs": [],
   "source": [
    "from itertools   import count\n",
    "from typing      import Tuple, List\n",
    "\n",
    "import re"
   ]
  },
  {
   "cell_type": "code",
   "execution_count": 2,
   "metadata": {},
   "outputs": [],
   "source": [
    "def data(day: int, parser=str, sep='\\n') -> list:\n",
    "    \"Split the day's input file into sections separated by `sep`, and apply `parser` to each.\"\n",
    "    with open(f'data/day{day}.txt') as f:\n",
    "        sections = f.read().rstrip().split(sep)\n",
    "        return list(map(parser, sections))"
   ]
  },
  {
   "cell_type": "markdown",
   "metadata": {},
   "source": [
    "## Day 1: Report Repair\n",
    "\n",
    "### Part 1\n",
    "The first challenge is to find two numbers in a list that add up to 2020 and return their product."
   ]
  },
  {
   "cell_type": "code",
   "execution_count": 17,
   "metadata": {},
   "outputs": [
    {
     "data": {
      "text/plain": [
       "926464"
      ]
     },
     "execution_count": 17,
     "metadata": {},
     "output_type": "execute_result"
    }
   ],
   "source": [
    "test1_input = [1721, 979, 366, 299, 675, 1456]\n",
    "# 1721 + 299 = 2020 and 1721 * 299 = 514579\n",
    "test1_1output = 514579\n",
    "\n",
    "def twosum(nums):\n",
    "    complements = set()\n",
    "    for x in nums:\n",
    "        y = 2020 - x\n",
    "        \n",
    "        if x in complements:\n",
    "            return x * y\n",
    "        \n",
    "        complements.add(y)\n",
    "        \n",
    "assert twosum(set(test1_input)) == test1_1output\n",
    "\n",
    "input1 = set(data(1, int))\n",
    "twosum(input1)"
   ]
  },
  {
   "cell_type": "markdown",
   "metadata": {},
   "source": [
    "### Part 2\n",
    "The second part of the puzzle is to find the three distinct numbers that add to 2020 and return their product."
   ]
  },
  {
   "cell_type": "code",
   "execution_count": 18,
   "metadata": {},
   "outputs": [
    {
     "data": {
      "text/plain": [
       "65656536"
      ]
     },
     "execution_count": 18,
     "metadata": {},
     "output_type": "execute_result"
    }
   ],
   "source": [
    "test1_input = [1721, 979, 366, 299, 675, 1456]\n",
    "# 979 + 366 + 675 = 2020 and 979 * 366 * 675 = 241861950\n",
    "test1_2output = 241861950\n",
    "\n",
    "def threesum(nums):\n",
    "    for x in nums:\n",
    "        complements = set()\n",
    "        yz = 2020 - x\n",
    "\n",
    "        for y in nums:\n",
    "            z = yz - y\n",
    "\n",
    "            if y in complements:\n",
    "                return x * y * z\n",
    "\n",
    "            complements.add(z)\n",
    "\n",
    "assert threesum(set(test1_input)) == test1_2output\n",
    "\n",
    "input1 = set(data(1, int))\n",
    "threesum(input1)"
   ]
  },
  {
   "cell_type": "markdown",
   "metadata": {},
   "source": [
    "## Day 2: Password Philosophy\n",
    "\n",
    "### Part 1\n",
    "The First part of this days challenge is to count how many passwords are valid according to their policies.\n",
    "\n",
    "A given password string is considered valid if it contains between min and max instances of a specific character, where min, max and the character are specified in the policy."
   ]
  },
  {
   "cell_type": "code",
   "execution_count": 5,
   "metadata": {},
   "outputs": [
    {
     "data": {
      "text/plain": [
       "378"
      ]
     },
     "execution_count": 5,
     "metadata": {},
     "output_type": "execute_result"
    }
   ],
   "source": [
    "test2_input1 = '1-3 a: abcde'\n",
    "test2_input2 = '1-3 b: cdefg'\n",
    "test2_input3 = '2-9 c: ccccccccc'\n",
    "test2_1output1 = True\n",
    "test2_1output2 = False\n",
    "test2_1output3 = True\n",
    "\n",
    "Pw_Policy = Tuple[int, int, str, str]\n",
    "\n",
    "def parse_pw_policy(line: str) -> Pw_Policy:\n",
    "    \"Given '1-3 b: cdefg', return (1, 3, 'b', 'cdefg').\"\n",
    "    mmin, mmax, letter, pw = re.findall(r'[^-:\\s]+', line)\n",
    "    return (int(mmin), int(mmax), letter, pw)\n",
    "\n",
    "def check_pw(policy) -> bool:\n",
    "    mmin, mmax, letter, pw = policy\n",
    "    return mmin <= pw.count(letter) <= mmax\n",
    "\n",
    "assert check_pw(parse_pw_policy(test2_input1)) == test2_1output1\n",
    "assert check_pw(parse_pw_policy(test2_input2)) == test2_1output2\n",
    "assert check_pw(parse_pw_policy(test2_input3)) == test2_1output3\n",
    "\n",
    "input2: List[Tuple] = data(2, parse_pw_policy)\n",
    "\n",
    "sum(map(check_pw, input2))"
   ]
  },
  {
   "cell_type": "markdown",
   "metadata": {},
   "source": [
    "### Part 2\n",
    "The second part of this puzzle changes the interpretation of the password policy.\n",
    "This digits that used to express min and max before now denote a position in the password string, however the index starts at 1.\n",
    "\n",
    "A password is considered valid with this new policy if it has the specified letter at exactly one of the two given positions. How many passwords are valid?"
   ]
  },
  {
   "cell_type": "code",
   "execution_count": 6,
   "metadata": {},
   "outputs": [
    {
     "data": {
      "text/plain": [
       "280"
      ]
     },
     "execution_count": 6,
     "metadata": {},
     "output_type": "execute_result"
    }
   ],
   "source": [
    "test2_2output1 = True\n",
    "test2_2output2 = False\n",
    "test2_2output3 = False\n",
    "\n",
    "def check_pw2(policy, offset=1) -> bool:\n",
    "    first, second, letter, pw = policy\n",
    "    return (pw[first - offset] == letter) ^ (pw[second - offset] == letter)\n",
    "\n",
    "assert check_pw2(parse_pw_policy(test2_input1)) == test2_2output1\n",
    "assert check_pw2(parse_pw_policy(test2_input2)) == test2_2output2\n",
    "assert check_pw2(parse_pw_policy(test2_input3)) == test2_2output3\n",
    "\n",
    "sum(map(check_pw2, input2))"
   ]
  },
  {
   "cell_type": "markdown",
   "metadata": {},
   "source": [
    "## Day 3: Toboggan Trajectory\n",
    "\n",
    "### Part 1\n",
    "This challenge provides a map that contains '.' for free spaces and '#' for trees.\n",
    "\n",
    "The questions is how many trees are encountered for a given map with a path that takes 3 steps right and 1 down until the bottom of the map is reached with the assumption that the pattern specified in the map repeats infinitely to the right."
   ]
  },
  {
   "cell_type": "code",
   "execution_count": 7,
   "metadata": {},
   "outputs": [
    {
     "data": {
      "text/plain": [
       "220"
      ]
     },
     "execution_count": 7,
     "metadata": {},
     "output_type": "execute_result"
    }
   ],
   "source": [
    "test3_input = ['..##.......',\n",
    "               '#...#...#..',\n",
    "               '.#....#..#.',\n",
    "               '..#.#...#.#',\n",
    "               '.#...##..#.',\n",
    "               '..#.##.....',\n",
    "               '.#.#.#....#',\n",
    "               '.#........#',\n",
    "               '#.##...#...',\n",
    "               '#...##....#',\n",
    "               '.#..#...#.#']\n",
    "test3_1output = 7\n",
    "\n",
    "Grid = List[str]\n",
    "\n",
    "def count_trees_along_slope(grid, dx=3, dy=1, tree='#'):\n",
    "    height = len(grid)\n",
    "    width = len(grid[0])\n",
    "    return sum((grid[row][col % width] == tree)\n",
    "               for row, col in zip(range(0, height, dy), count(0, dx)))\n",
    "\n",
    "assert count_trees_along_slope(test3_input, dx=3, dy=1, tree='#') == test3_1output\n",
    "\n",
    "input3 : Grid = data(3)\n",
    "\n",
    "count_trees_along_slope(input3)"
   ]
  },
  {
   "cell_type": "markdown",
   "metadata": {},
   "source": [
    "### Part2\n",
    "The second challenge for this day asks for the product of the encountered trees for paths with different slopes."
   ]
  },
  {
   "cell_type": "code",
   "execution_count": 8,
   "metadata": {},
   "outputs": [
    {
     "data": {
      "text/plain": [
       "2138320800"
      ]
     },
     "execution_count": 8,
     "metadata": {},
     "output_type": "execute_result"
    }
   ],
   "source": [
    "test3_2output = 336\n",
    "\n",
    "def count_trees_along_all_slopes(grid):\n",
    "    def t(dx, dy):\n",
    "        return count_trees_along_slope(grid, dx, dy)\n",
    "    return t(1, 1) * t(3, 1) * t(5, 1) * t(7, 1) * t(1, 2)\n",
    "\n",
    "assert count_trees_along_all_slopes(test3_input) == test3_2output\n",
    "\n",
    "count_trees_along_all_slopes(input3)"
   ]
  },
  {
   "cell_type": "markdown",
   "metadata": {},
   "source": [
    "## Day 4: Passport Processing\n",
    "\n",
    "### Part 1\n",
    "For this challenge a batch of passports is given. Each passport is represented as a sequence of key:value pairs. \n",
    "A passport is valid if it contains all expected fields while country id is optional. How many passports are valid?"
   ]
  },
  {
   "cell_type": "code",
   "execution_count": 9,
   "metadata": {},
   "outputs": [
    {
     "data": {
      "text/plain": [
       "254"
      ]
     },
     "execution_count": 9,
     "metadata": {},
     "output_type": "execute_result"
    }
   ],
   "source": [
    "test4_input1 = \"ecl:gry pid:860033327 eyr:2020 hcl:#fffffd byr:1937 iyr:2017 cid:147 hgt:183cm\"\n",
    "test4_input2 = \"iyr:2013 ecl:amb cid:350 eyr:2023 pid:028048884 hcl:#cfa07d byr:1929\"\n",
    "test4_input3 = \"hcl:#ae17e1 iyr:2013 eyr:2024 ecl:brn pid:760753108 byr:1931 hgt:179cm\"\n",
    "test4_input4 = \"hcl:#cfa07d eyr:2025 pid:166559648 iyr:2011 ecl:brn hgt:59in\"\n",
    "\n",
    "test4_output1 = True\n",
    "test4_output2 = False\n",
    "test4_output3 = True\n",
    "test4_output4 = False\n",
    "\n",
    "Passport = dict\n",
    "\n",
    "def parse_passport(passport_string: str) -> Passport:\n",
    "    return Passport(re.findall(r'([a-z]+):([^\\s]+)', passport_string))\n",
    "\n",
    "required_fields = {'byr', 'iyr', 'eyr', 'hgt', 'hcl', 'ecl', 'pid'}\n",
    "\n",
    "def check_passport_fields(Passport) -> bool:\n",
    "    return required_fields.issubset(Passport.keys())\n",
    "\n",
    "assert check_passport_fields(parse_passport(test4_input1)) == test4_output1\n",
    "assert check_passport_fields(parse_passport(test4_input2)) == test4_output2\n",
    "assert check_passport_fields(parse_passport(test4_input3)) == test4_output3\n",
    "assert check_passport_fields(parse_passport(test4_input4)) == test4_output4\n",
    "\n",
    "input4 : List[Passport] = data(4, parse_passport, '\\n\\n')\n",
    "\n",
    "sum(map(check_passport_fields, input4))"
   ]
  },
  {
   "cell_type": "markdown",
   "metadata": {},
   "source": [
    "### Part 2\n",
    "The second part of the puzzle requires passports to not only posses all required fields but also that the values of these fields obey specific rules. How many passports are valid according to the new stricter rules?"
   ]
  },
  {
   "cell_type": "code",
   "execution_count": 10,
   "metadata": {},
   "outputs": [
    {
     "data": {
      "text/plain": [
       "184"
      ]
     },
     "execution_count": 10,
     "metadata": {},
     "output_type": "execute_result"
    }
   ],
   "source": [
    "test4_2input1 = \"eyr:1972 cid:100 hcl:#18171d ecl:amb hgt:170 pid:186cm iyr:2018 byr:1926\"\n",
    "test4_2input2 = \"iyr:2019 hcl:#602927 eyr:1967 hgt:170cm ecl:grn pid:012533040 byr:1946\"\n",
    "test4_2input3 = \"hcl:dab227 iyr:2012 ecl:brn hgt:182cm pid:021572410 eyr:2020 byr:1992 cid:277\"\n",
    "test4_2input4 = \"hgt:59cm ecl:zzz eyr:2038 hcl:74454a iyr:2023 pid:3556412378 byr:2007\"\n",
    "\n",
    "test4_2output1 = False\n",
    "test4_2output2 = False\n",
    "test4_2output3 = False\n",
    "test4_2output4 = False\n",
    "\n",
    "test4_2input5 = \"pid:087499704 hgt:74in ecl:grn iyr:2012 eyr:2030 byr:1980 hcl:#623a2f\"\n",
    "test4_2input6 = \"eyr:2029 ecl:blu cid:129 byr:1989 iyr:2014 pid:896056539 hcl:#a97842 hgt:165cm\"\n",
    "test4_2input7 = \"hcl:#888785 hgt:164cm byr:2001 iyr:2015 cid:88 pid:545766238 ecl:hzl eyr:2022\"\n",
    "test4_2input8 = \"iyr:2010 hgt:158cm hcl:#b6652a ecl:blu byr:1944 eyr:2021 pid:093154719\"\n",
    "\n",
    "test4_2output5 = True\n",
    "test4_2output6 = True\n",
    "test4_2output7 = True\n",
    "test4_2output8 = True\n",
    "\n",
    "def check_passport_values(Passport) -> bool:\n",
    "    '''Passport fields are considered valid acording to these rules:\n",
    "    byr (Birth Year) - four digits; at least 1920 and at most 2002.\n",
    "    iyr (Issue Year) - four digits; at least 2010 and at most 2020.\n",
    "    eyr (Expiration Year) - four digits; at least 2020 and at most 2030.\n",
    "    hgt (Height) - a number followed by either cm or in:\n",
    "        If cm, the number must be at least 150 and at most 193.\n",
    "        If in, the number must be at least 59 and at most 76.\n",
    "    hcl (Hair Color) - a # followed by exactly six characters 0-9 or a-f.\n",
    "    ecl (Eye Color) - exactly one of: amb blu brn gry grn hzl oth.\n",
    "    pid (Passport ID) - a nine-digit number, including leading zeroes.\n",
    "    cid (Country ID) - ignored, missing or not.'''\n",
    "    \n",
    "    byr : bool = 1920 <= int(Passport['byr']) <= 2002\n",
    "    iyr : bool = 2010 <= int(Passport['iyr']) <= 2020\n",
    "    eyr : bool = 2020 <= int(Passport['eyr']) <= 2030\n",
    "    hgt : bool = (((Passport['hgt'][-2:]=='cm') and (150 <= int(Passport['hgt'][:-2]) <= 193)) or\n",
    "                  ((Passport['hgt'][-2:]=='in') and (59 <= int(Passport['hgt'][:-2]) <= 76)))\n",
    "    hcl : bool = bool(re.match('#[0-9a-f]{6}$', Passport['hcl']))\n",
    "    eyecolors = {'amb', 'blu', 'brn', 'gry', 'grn', 'hzl', 'oth'}\n",
    "    ecl : bool = Passport['ecl'] in eyecolors\n",
    "    pid : bool = bool(re.match('[0-9]{9}$', Passport['pid']))\n",
    "    \n",
    "    return all([byr, iyr, eyr, hgt, hcl, ecl, pid])\n",
    "\n",
    "assert check_passport_values(parse_passport(test4_2input1)) == test4_2output1\n",
    "assert check_passport_values(parse_passport(test4_2input2)) == test4_2output2\n",
    "assert check_passport_values(parse_passport(test4_2input3)) == test4_2output3\n",
    "assert check_passport_values(parse_passport(test4_2input4)) == test4_2output4\n",
    "assert check_passport_values(parse_passport(test4_2input5)) == test4_2output5\n",
    "assert check_passport_values(parse_passport(test4_2input6)) == test4_2output6\n",
    "assert check_passport_values(parse_passport(test4_2input7)) == test4_2output7\n",
    "assert check_passport_values(parse_passport(test4_2input8)) == test4_2output8\n",
    "\n",
    "sum(check_passport_values(passport)\n",
    "    for passport in input4 if check_passport_fields(passport))"
   ]
  },
  {
   "cell_type": "markdown",
   "metadata": {},
   "source": [
    "## Day 5: Binary Boarding\n",
    "\n",
    "### Part 1\n",
    "This puzzle provides a list of boarding passes that each specify one seat in the airplane. The airlane uses a binary space partioning approach for seating. Each boarding pass contains 10 characters, the first 7 are either 'F' or 'B' and specify the exact row. The last 3 characters can either be 'R' or 'L' and specify the column of the seat.\n",
    "\n",
    "The airplane has 128 rows (0-127) and 8 columns(0-7). 'F' means front and indicates the lower half of the search space, 'B' means back and designates the upper half of the respective interval. For the column the convention is that 'L' can be interpreted as left and is meant to designate the lower half of the search space, while 'R' or right means the upper half.\n",
    "\n",
    "Additionaly each seat in the airplane has a seat ID that is calculated by row * 8 + column.\n",
    "\n",
    "The challenge is to find the highest seat ID of all provided boarding passes."
   ]
  },
  {
   "cell_type": "code",
   "execution_count": 11,
   "metadata": {},
   "outputs": [
    {
     "data": {
      "text/plain": [
       "955"
      ]
     },
     "execution_count": 11,
     "metadata": {},
     "output_type": "execute_result"
    }
   ],
   "source": [
    "test5_input1 = 'FBFBBFFRLR'\n",
    "test5_input2 = 'BFFFBBFRRR'\n",
    "test5_input3 = 'FFFBBBFRRR'\n",
    "test5_input4 = 'BBFFBBFRLL'\n",
    "\n",
    "test5_output1 = 357\n",
    "test5_output2 = 567\n",
    "test5_output3 = 119\n",
    "test5_output4 = 820\n",
    "\n",
    "Boarding_Pass = str\n",
    "\n",
    "def parse_boarding_pass(Boarding_Pass) -> str:\n",
    "    \"translate the string to binary according to the specified conventions for rows and columns\"\n",
    "    table = str.maketrans('FBRL', '0110')\n",
    "    return Boarding_Pass.translate(table)\n",
    "\n",
    "def get_seat_ID(binary_boarding_pass) -> int:\n",
    "    #the outcommented code was writen before realizing that\n",
    "    #first 7 digits * 8 (equivalent to << 3) + last 3 digits is the same as original string in binary 😅\n",
    "    #row = int(binary_boarding_pass[:-3], 2)\n",
    "    #column = int(binary_boarding_pass[-3:], 2)\n",
    "    #return row * 8 + column\n",
    "    return int(binary_boarding_pass, 2)\n",
    "\n",
    "assert get_seat_ID(parse_boarding_pass(test5_input1)) == test5_output1\n",
    "assert get_seat_ID(parse_boarding_pass(test5_input2)) == test5_output2\n",
    "assert get_seat_ID(parse_boarding_pass(test5_input3)) == test5_output3\n",
    "assert get_seat_ID(parse_boarding_pass(test5_input4)) == test5_output4\n",
    "\n",
    "input5 = data(5, parser=parse_boarding_pass)\n",
    "max(map(get_seat_ID, input5))"
   ]
  },
  {
   "cell_type": "markdown",
   "metadata": {},
   "source": [
    "### Part 2\n",
    "For the second part of this days puzzle a specific seat ID has to be found.\n",
    "The wanted seat ID is not in the list of provided boarding passes.\n",
    "This is not unambigously however so additionaly it is stated that the ID is not at the very front or back of the airplane but within the bulk of all the other seat IDs, as the adjacent IDs are also in the provided list."
   ]
  },
  {
   "cell_type": "code",
   "execution_count": 12,
   "metadata": {},
   "outputs": [
    {
     "data": {
      "text/plain": [
       "569"
      ]
     },
     "execution_count": 12,
     "metadata": {},
     "output_type": "execute_result"
    }
   ],
   "source": [
    "seat_IDs = set(map(get_seat_ID, input5))\n",
    "\n",
    "def find_seat_ID():\n",
    "    id = (set(range(min(seat_IDs), max(seat_IDs))) - (seat_IDs)).pop()\n",
    "    return id\n",
    "\n",
    "find_seat_ID()"
   ]
  },
  {
   "cell_type": "markdown",
   "metadata": {},
   "source": [
    "## Day 6: Custom Customs\n",
    "\n",
    "### Part1\n",
    "This puzzle provides a list with answers of groups for customs declarations questions. Groups are separted by blank lines. A group can contain answers for multiple persons, all answers for one person are in a single line. There are 26 different custom questions and a positive answer is represented by the corresponding letter in the list. The challenge is to count all different questions that are group answered with yes and to sum up these counts for all groups."
   ]
  },
  {
   "cell_type": "code",
   "execution_count": 13,
   "metadata": {},
   "outputs": [
    {
     "data": {
      "text/plain": [
       "6596"
      ]
     },
     "execution_count": 13,
     "metadata": {},
     "output_type": "execute_result"
    }
   ],
   "source": [
    "test6_input1 = '''abc\n",
    "\n",
    "a\n",
    "b\n",
    "c\n",
    "\n",
    "ab\n",
    "ac\n",
    "\n",
    "a\n",
    "a\n",
    "a\n",
    "a\n",
    "\n",
    "b'''\n",
    "test6_output1 = 11\n",
    "\n",
    "Group = List[str]\n",
    "\n",
    "def parse_group(group_str: str) -> Group:\n",
    "    return group_str.splitlines()\n",
    "\n",
    "def count_groups(groups: List[Group]) -> int:\n",
    "    return sum(len(set.union(*map(set, group))) for group in groups)\n",
    "\n",
    "assert count_groups([parse_group(group) for group in test6_input1.split('\\n\\n')]) == test6_output1\n",
    "\n",
    "input6: List[Group] = data(6, parse_group, sep='\\n\\n')\n",
    "    \n",
    "count_groups(input6)"
   ]
  },
  {
   "cell_type": "markdown",
   "metadata": {},
   "source": [
    "### Part 2\n",
    "For the second part the task is modified slightly to only count the answers in a group that were answered with yes by every person in the group and to then count these for all groups."
   ]
  },
  {
   "cell_type": "code",
   "execution_count": 14,
   "metadata": {},
   "outputs": [
    {
     "data": {
      "text/plain": [
       "3219"
      ]
     },
     "execution_count": 14,
     "metadata": {},
     "output_type": "execute_result"
    }
   ],
   "source": [
    "test6_2output1 = 6\n",
    "\n",
    "def count_groups2(groups: List[Group]) -> int:\n",
    "    return sum(len(set.intersection(*map(set, group))) for group in groups)\n",
    "\n",
    "assert count_groups2([parse_group(group) for group in test6_input1.split('\\n\\n')]) == test6_2output1\n",
    "\n",
    "count_groups2(input6)"
   ]
  },
  {
   "cell_type": "markdown",
   "metadata": {},
   "source": [
    "## Day 7: Handy Haversacks"
   ]
  },
  {
   "cell_type": "code",
   "execution_count": 15,
   "metadata": {},
   "outputs": [],
   "source": [
    "test7_input1 = '''light red bags contain 1 bright white bag, 2 muted yellow bags.\n",
    "dark orange bags contain 3 bright white bags, 4 muted yellow bags.\n",
    "bright white bags contain 1 shiny gold bag.\n",
    "muted yellow bags contain 2 shiny gold bags, 9 faded blue bags.\n",
    "shiny gold bags contain 1 dark olive bag, 2 vibrant plum bags.\n",
    "dark olive bags contain 3 faded blue bags, 4 dotted black bags.\n",
    "vibrant plum bags contain 5 faded blue bags, 6 dotted black bags.\n",
    "faded blue bags contain no other bags.\n",
    "dotted black bags contain no other bags.'''\n",
    "\n",
    "test7_output1 = 4"
   ]
  }
 ],
 "metadata": {
  "kernelspec": {
   "display_name": "Python 3",
   "language": "python",
   "name": "python3"
  },
  "language_info": {
   "codemirror_mode": {
    "name": "ipython",
    "version": 3
   },
   "file_extension": ".py",
   "mimetype": "text/x-python",
   "name": "python",
   "nbconvert_exporter": "python",
   "pygments_lexer": "ipython3",
   "version": "3.8.5"
  }
 },
 "nbformat": 4,
 "nbformat_minor": 4
}
