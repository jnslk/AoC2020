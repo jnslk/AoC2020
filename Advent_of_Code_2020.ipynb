{
 "cells": [
  {
   "cell_type": "markdown",
   "metadata": {},
   "source": [
    "# Advent of Code\n",
    "\n",
    "This notebook contains my solutions for the 2020 version of [Advent of Code](https://adventofcode.com/2020).\n",
    "\n",
    "### Imports and Dataimport"
   ]
  },
  {
   "cell_type": "code",
   "execution_count": 1,
   "metadata": {},
   "outputs": [],
   "source": [
    "from itertools   import count\n",
    "from typing      import Tuple, List\n",
    "\n",
    "import re"
   ]
  },
  {
   "cell_type": "code",
   "execution_count": 2,
   "metadata": {},
   "outputs": [],
   "source": [
    "def data(day: int, parser=str, sep='\\n') -> list:\n",
    "    \"Split the day's input file into sections separated by `sep`, and apply `parser` to each.\"\n",
    "    with open(f'data/day{day}.txt') as f:\n",
    "        sections = f.read().rstrip().split(sep)\n",
    "        return list(map(parser, sections))"
   ]
  },
  {
   "cell_type": "markdown",
   "metadata": {},
   "source": [
    "## Day 1: Report Repair\n",
    "\n",
    "### Part 1\n",
    "The first challenge is to find two numbers in a list that add up to 2020 and return their product."
   ]
  },
  {
   "cell_type": "code",
   "execution_count": 3,
   "metadata": {},
   "outputs": [
    {
     "data": {
      "text/plain": [
       "926464"
      ]
     },
     "execution_count": 3,
     "metadata": {},
     "output_type": "execute_result"
    }
   ],
   "source": [
    "test1_input = [1721, 979, 366, 299, 675, 1456]\n",
    "# 1721 + 299 = 2020 and 1721 * 299 = 514579\n",
    "test1_1output = 514579\n",
    "\n",
    "# simple brute force approach with nested for loops and quadratic runtime complexity in relation to the input size\n",
    "def day1_1dumb(nums):\n",
    "    for x in nums:\n",
    "        for y in nums:\n",
    "            if (y == 2020 - x):\n",
    "                return x * y\n",
    "\n",
    "def day1_1(nums):\n",
    "    complements = set()\n",
    "    for x in nums:\n",
    "        y = 2020 - x\n",
    "        \n",
    "        if x in complements:\n",
    "            return x * y\n",
    "        \n",
    "        complements.add(y)\n",
    "        \n",
    "assert day1_1dumb(set(test1_input)) == test1_1output\n",
    "assert day1_1(set(test1_input)) == test1_1output\n",
    "\n",
    "input1 = set(data(1, int))\n",
    "day1_1(input1)"
   ]
  },
  {
   "cell_type": "markdown",
   "metadata": {},
   "source": [
    "### Part 2\n",
    "The second part of the puzzle is to find the three distinct numbers that add to 2020 and return their product."
   ]
  },
  {
   "cell_type": "code",
   "execution_count": 4,
   "metadata": {},
   "outputs": [
    {
     "data": {
      "text/plain": [
       "65656536"
      ]
     },
     "execution_count": 4,
     "metadata": {},
     "output_type": "execute_result"
    }
   ],
   "source": [
    "test1_input = [1721, 979, 366, 299, 675, 1456]\n",
    "# 979 + 366 + 675 = 2020 and 979 * 366 * 675 = 241861950\n",
    "test1_2output = 241861950\n",
    "\n",
    "# simple brute force approach with three nested for loops and cubic runtime complexity in relation to the input size\n",
    "def day1_2dumb(nums):\n",
    "    for x in nums:\n",
    "        for y in nums:\n",
    "            for z in nums:\n",
    "                if (z == 2020 - y - x):\n",
    "                    return x * y * z\n",
    "\n",
    "def day1_2(nums):\n",
    "    for x in nums:\n",
    "        complements = set()\n",
    "        yz = 2020 - x\n",
    "\n",
    "        for y in nums:\n",
    "            z = yz - y\n",
    "\n",
    "            if y in complements:\n",
    "                return x * y * z\n",
    "\n",
    "            complements.add(z)\n",
    "\n",
    "assert day1_2dumb(set(test1_input)) == test1_2output\n",
    "assert day1_2(set(test1_input)) == test1_2output\n",
    "\n",
    "input1 = set(data(1, int))\n",
    "day1_2(input1)"
   ]
  },
  {
   "cell_type": "markdown",
   "metadata": {},
   "source": [
    "### Benchmark"
   ]
  },
  {
   "cell_type": "code",
   "execution_count": 5,
   "metadata": {},
   "outputs": [
    {
     "name": "stdout",
     "output_type": "stream",
     "text": [
      "710 µs ± 2.98 µs per loop (mean ± std. dev. of 7 runs, 1000 loops each)\n"
     ]
    }
   ],
   "source": [
    "%timeit day1_1dumb(input1)"
   ]
  },
  {
   "cell_type": "code",
   "execution_count": 6,
   "metadata": {},
   "outputs": [
    {
     "name": "stdout",
     "output_type": "stream",
     "text": [
      "11.5 µs ± 71.9 ns per loop (mean ± std. dev. of 7 runs, 100000 loops each)\n"
     ]
    }
   ],
   "source": [
    "%timeit day1_1(input1)"
   ]
  },
  {
   "cell_type": "code",
   "execution_count": 7,
   "metadata": {},
   "outputs": [
    {
     "name": "stdout",
     "output_type": "stream",
     "text": [
      "60.1 ms ± 486 µs per loop (mean ± std. dev. of 7 runs, 10 loops each)\n"
     ]
    }
   ],
   "source": [
    "%timeit day1_2dumb(input1)"
   ]
  },
  {
   "cell_type": "code",
   "execution_count": 8,
   "metadata": {},
   "outputs": [
    {
     "name": "stdout",
     "output_type": "stream",
     "text": [
      "480 µs ± 1.81 µs per loop (mean ± std. dev. of 7 runs, 1000 loops each)\n"
     ]
    }
   ],
   "source": [
    "%timeit day1_2(input1)"
   ]
  },
  {
   "cell_type": "markdown",
   "metadata": {},
   "source": [
    "## Day 2: Password Philosophy\n",
    "\n",
    "### Part 1\n",
    "The First part of this days challenge is to count how many passwords are valid according to their policies.\n",
    "\n",
    "A given password string is considered valid if it contains between min and max instances of a specific character, where min, max and the character are specified in the policy."
   ]
  },
  {
   "cell_type": "code",
   "execution_count": 100,
   "metadata": {},
   "outputs": [
    {
     "data": {
      "text/plain": [
       "378"
      ]
     },
     "execution_count": 100,
     "metadata": {},
     "output_type": "execute_result"
    }
   ],
   "source": [
    "test2_input1 = '1-3 a: abcde'\n",
    "test2_input2 = '1-3 b: cdefg'\n",
    "test2_input3 ='2-9 c: ccccccccc'\n",
    "test2_1output1 = True\n",
    "test2_1output2 = False\n",
    "test2_1output3 = True\n",
    "\n",
    "Pw_Policy = Tuple[int, int, str, str]\n",
    "\n",
    "def parse_pw_policy(line: str) -> Pw_Policy:\n",
    "    \"Given '1-3 b: cdefg', return (1, 3, 'b', 'cdefg').\"\n",
    "    mmin, mmax, letter, pw = re.findall(r'[^-:\\s]+', line)\n",
    "    return (int(mmin), int(mmax), letter, pw)\n",
    "\n",
    "def check_pw(policy) -> bool:\n",
    "    mmin, mmax, letter, pw = policy\n",
    "    return mmin <= pw.count(letter) <= mmax\n",
    "\n",
    "assert check_pw(parse_pw_policy(test2_input1)) == test2_1output1\n",
    "assert check_pw(parse_pw_policy(test2_input2)) == test2_1output2\n",
    "assert check_pw(parse_pw_policy(test2_input3)) == test2_1output3\n",
    "\n",
    "input2: List[Tuple] = data(2, parse_pw_policy)\n",
    "\n",
    "valid = 0\n",
    "for pw_string in input2:\n",
    "    if check_pw(pw_string) == True:\n",
    "        valid += 1\n",
    "valid"
   ]
  },
  {
   "cell_type": "markdown",
   "metadata": {},
   "source": [
    "### Part 2\n",
    "The second part of this puzzle changes the interpretation of the password policy.\n",
    "This digits that used to express min and max before now denote a position in the password string, however the index starts at 1.\n",
    "\n",
    "A password is considered valid with this new policy if it has the specified letter at exactly one of the two given positions. How many passwords are valid?"
   ]
  },
  {
   "cell_type": "code",
   "execution_count": 98,
   "metadata": {},
   "outputs": [
    {
     "data": {
      "text/plain": [
       "280"
      ]
     },
     "execution_count": 98,
     "metadata": {},
     "output_type": "execute_result"
    }
   ],
   "source": [
    "test2_2output1 = True\n",
    "test2_2output2 = False\n",
    "test2_2output3 = False\n",
    "\n",
    "def check_pw2(policy, offset=1) -> bool:\n",
    "    first, second, letter, pw = policy\n",
    "    return (pw[first - offset] == letter) ^ (pw[second - offset] == letter)\n",
    "\n",
    "assert check_pw2(parse_pw_policy(test2_input1)) == test2_2output1\n",
    "assert check_pw2(parse_pw_policy(test2_input2)) == test2_2output2\n",
    "assert check_pw2(parse_pw_policy(test2_input3)) == test2_2output3\n",
    "\n",
    "valid = 0\n",
    "for pw_string in input2:\n",
    "    if check_pw2(pw_string) == True:\n",
    "        valid += 1\n",
    "valid"
   ]
  },
  {
   "cell_type": "markdown",
   "metadata": {},
   "source": [
    "## Day 3: Toboggan Trajectory\n",
    "\n",
    "### Part 1\n",
    "This challenge provides a map that contains '.' for free spaces and '#' for trees.\n",
    "\n",
    "The questions is how many trees are encountered for a given map with a path that takes 3 steps right and 1 down until the bottom of the map is reached with the assumption that the pattern specified in the map repeats infinitely to the right."
   ]
  },
  {
   "cell_type": "code",
   "execution_count": 11,
   "metadata": {},
   "outputs": [
    {
     "data": {
      "text/plain": [
       "220"
      ]
     },
     "execution_count": 11,
     "metadata": {},
     "output_type": "execute_result"
    }
   ],
   "source": [
    "test3_input = ['..##.......',\n",
    "               '#...#...#..',\n",
    "               '.#....#..#.',\n",
    "               '..#.#...#.#',\n",
    "               '.#...##..#.',\n",
    "               '..#.##.....',\n",
    "               '.#.#.#....#',\n",
    "               '.#........#',\n",
    "               '#.##...#...',\n",
    "               '#...##....#',\n",
    "               '.#..#...#.#']\n",
    "test3_1output = 7\n",
    "\n",
    "Grid = List[str]\n",
    "\n",
    "def count_trees_along_slope(grid, dx=3, dy=1, tree='#'):\n",
    "    height = len(grid)\n",
    "    width = len(grid[0])\n",
    "    trees = 0\n",
    "    col = 0\n",
    "    for row, col in zip(range(0, height, dy), count(0, dx)):\n",
    "        if grid[row][col % width] == tree:\n",
    "            trees += 1\n",
    "    return trees\n",
    "\n",
    "assert count_trees_along_slope(test3_input, dx=3, dy=1, tree='#') == test3_1output\n",
    "\n",
    "input3 : Grid = data(3)\n",
    "\n",
    "count_trees_along_slope(input3)"
   ]
  },
  {
   "cell_type": "markdown",
   "metadata": {},
   "source": [
    "### Part2\n",
    "The second challenge for this day asks for the product of the encountered trees for paths with different slopes."
   ]
  },
  {
   "cell_type": "code",
   "execution_count": 12,
   "metadata": {},
   "outputs": [
    {
     "data": {
      "text/plain": [
       "2138320800"
      ]
     },
     "execution_count": 12,
     "metadata": {},
     "output_type": "execute_result"
    }
   ],
   "source": [
    "test3_2output = 336\n",
    "\n",
    "def count_trees_along_all_slopes(grid):\n",
    "    def t(dx, dy):\n",
    "        return count_trees_along_slope(grid, dx, dy)\n",
    "    return t(1, 1) * t(3, 1) * t(5, 1) * t(7, 1) * t(1, 2)\n",
    "\n",
    "assert count_trees_along_all_slopes(test3_input) == test3_2output\n",
    "\n",
    "count_trees_along_all_slopes(input3)"
   ]
  },
  {
   "cell_type": "markdown",
   "metadata": {},
   "source": [
    "## Day 4: Passport Processing\n",
    "\n",
    "### Part 1\n",
    "For this challenge a batch of passports is given. Each passport is represented as a sequence of key:value pairs. \n",
    "A passport is valid if it contains all expected fields while country id is optional. How many passports are valid?"
   ]
  },
  {
   "cell_type": "code",
   "execution_count": 97,
   "metadata": {},
   "outputs": [
    {
     "data": {
      "text/plain": [
       "254"
      ]
     },
     "execution_count": 97,
     "metadata": {},
     "output_type": "execute_result"
    }
   ],
   "source": [
    "test4_input1 = \"ecl:gry pid:860033327 eyr:2020 hcl:#fffffd byr:1937 iyr:2017 cid:147 hgt:183cm\"\n",
    "test4_input2 = \"iyr:2013 ecl:amb cid:350 eyr:2023 pid:028048884 hcl:#cfa07d byr:1929\"\n",
    "test4_input3 = \"hcl:#ae17e1 iyr:2013 eyr:2024 ecl:brn pid:760753108 byr:1931 hgt:179cm\"\n",
    "test4_input4 = \"hcl:#cfa07d eyr:2025 pid:166559648 iyr:2011 ecl:brn hgt:59in\"\n",
    "\n",
    "test4_output1 = True\n",
    "test4_output2 = False\n",
    "test4_output3 = True\n",
    "test4_output4 = False\n",
    "\n",
    "Passport = dict\n",
    "\n",
    "def parse_passport(passport_string: str) -> Passport:\n",
    "    return Passport(re.findall(r'([a-z]+):([^\\s]+)', passport_string))\n",
    "\n",
    "required_fields = {'byr', 'iyr', 'eyr', 'hgt', 'hcl', 'ecl', 'pid'}\n",
    "\n",
    "def check_passport_fields(Passport) -> bool:\n",
    "    return required_fields.issubset(Passport.keys())\n",
    "\n",
    "assert check_passport_fields(parse_passport(test4_input1)) == test4_output1\n",
    "assert check_passport_fields(parse_passport(test4_input2)) == test4_output2\n",
    "assert check_passport_fields(parse_passport(test4_input3)) == test4_output3\n",
    "assert check_passport_fields(parse_passport(test4_input4)) == test4_output4\n",
    "\n",
    "input4 : List[Passport] = data(4, parse_passport, '\\n\\n')\n",
    "\n",
    "valid = 0\n",
    "for passport in input4:\n",
    "    if check_passport_fields(passport) == True:\n",
    "        valid += 1\n",
    "valid"
   ]
  },
  {
   "cell_type": "markdown",
   "metadata": {},
   "source": [
    "### Part 2\n",
    "The second part of the puzzle requires passports to not only posses all required fields but also that the values of these fields obey specific rules. How many passports are valid according to the new stricter rules?"
   ]
  },
  {
   "cell_type": "code",
   "execution_count": 96,
   "metadata": {},
   "outputs": [
    {
     "data": {
      "text/plain": [
       "184"
      ]
     },
     "execution_count": 96,
     "metadata": {},
     "output_type": "execute_result"
    }
   ],
   "source": [
    "test4_2input1 = \"eyr:1972 cid:100 hcl:#18171d ecl:amb hgt:170 pid:186cm iyr:2018 byr:1926\"\n",
    "test4_2input2 = \"iyr:2019 hcl:#602927 eyr:1967 hgt:170cm ecl:grn pid:012533040 byr:1946\"\n",
    "test4_2input3 = \"hcl:dab227 iyr:2012 ecl:brn hgt:182cm pid:021572410 eyr:2020 byr:1992 cid:277\"\n",
    "test4_2input4 = \"hgt:59cm ecl:zzz eyr:2038 hcl:74454a iyr:2023 pid:3556412378 byr:2007\"\n",
    "\n",
    "test4_2output1 = False\n",
    "test4_2output2 = False\n",
    "test4_2output3 = False\n",
    "test4_2output4 = False\n",
    "\n",
    "test4_2input5 = \"pid:087499704 hgt:74in ecl:grn iyr:2012 eyr:2030 byr:1980 hcl:#623a2f\"\n",
    "test4_2input6 = \"eyr:2029 ecl:blu cid:129 byr:1989 iyr:2014 pid:896056539 hcl:#a97842 hgt:165cm\"\n",
    "test4_2input7 = \"hcl:#888785 hgt:164cm byr:2001 iyr:2015 cid:88 pid:545766238 ecl:hzl eyr:2022\"\n",
    "test4_2input8 = \"iyr:2010 hgt:158cm hcl:#b6652a ecl:blu byr:1944 eyr:2021 pid:093154719\"\n",
    "\n",
    "test4_2output5 = True\n",
    "test4_2output6 = True\n",
    "test4_2output7 = True\n",
    "test4_2output8 = True\n",
    "\n",
    "def check_passport_values(Passport) -> bool:\n",
    "    '''Passport fields are considered valid acording to these rules:\n",
    "    byr (Birth Year) - four digits; at least 1920 and at most 2002.\n",
    "    iyr (Issue Year) - four digits; at least 2010 and at most 2020.\n",
    "    eyr (Expiration Year) - four digits; at least 2020 and at most 2030.\n",
    "    hgt (Height) - a number followed by either cm or in:\n",
    "        If cm, the number must be at least 150 and at most 193.\n",
    "        If in, the number must be at least 59 and at most 76.\n",
    "    hcl (Hair Color) - a # followed by exactly six characters 0-9 or a-f.\n",
    "    ecl (Eye Color) - exactly one of: amb blu brn gry grn hzl oth.\n",
    "    pid (Passport ID) - a nine-digit number, including leading zeroes.\n",
    "    cid (Country ID) - ignored, missing or not.'''\n",
    "    \n",
    "    byr : bool = 1920 <= int(Passport['byr']) <= 2002\n",
    "    iyr : bool = 2010 <= int(Passport['iyr']) <= 2020\n",
    "    eyr : bool = 2020 <= int(Passport['eyr']) <= 2030\n",
    "    hgt : bool = (((Passport['hgt'][-2:]=='cm') and (150 <= int(Passport['hgt'][:-2]) <= 193)) or\n",
    "                  ((Passport['hgt'][-2:]=='in') and (59 <= int(Passport['hgt'][:-2]) <= 76)))\n",
    "    hcl : bool = bool(re.match('#[0-9a-f]{6}$', Passport['hcl']))\n",
    "    eyecolors = {'amb', 'blu', 'brn', 'gry', 'grn', 'hzl', 'oth'}\n",
    "    ecl : bool = Passport['ecl'] in eyecolors\n",
    "    pid : bool = bool(re.match('[0-9]{9}$', Passport['pid']))\n",
    "    \n",
    "    return all([byr, iyr, eyr, hgt, hcl, ecl, pid])\n",
    "\n",
    "assert check_passport_values(parse_passport(test4_2input1)) == test4_2output1\n",
    "assert check_passport_values(parse_passport(test4_2input2)) == test4_2output2\n",
    "assert check_passport_values(parse_passport(test4_2input3)) == test4_2output3\n",
    "assert check_passport_values(parse_passport(test4_2input4)) == test4_2output4\n",
    "assert check_passport_values(parse_passport(test4_2input5)) == test4_2output5\n",
    "assert check_passport_values(parse_passport(test4_2input6)) == test4_2output6\n",
    "assert check_passport_values(parse_passport(test4_2input7)) == test4_2output7\n",
    "assert check_passport_values(parse_passport(test4_2input8)) == test4_2output8\n",
    "\n",
    "valid = 0\n",
    "for passport in input4:\n",
    "    if check_passport_fields(passport) == True:\n",
    "        if check_passport_values(passport) == True:\n",
    "            valid += 1\n",
    "valid"
   ]
  }
 ],
 "metadata": {
  "kernelspec": {
   "display_name": "Python 3",
   "language": "python",
   "name": "python3"
  },
  "language_info": {
   "codemirror_mode": {
    "name": "ipython",
    "version": 3
   },
   "file_extension": ".py",
   "mimetype": "text/x-python",
   "name": "python",
   "nbconvert_exporter": "python",
   "pygments_lexer": "ipython3",
   "version": "3.8.5"
  }
 },
 "nbformat": 4,
 "nbformat_minor": 4
}
